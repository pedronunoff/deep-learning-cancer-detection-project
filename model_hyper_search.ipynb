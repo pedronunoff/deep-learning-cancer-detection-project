{
  "cells": [
    {
      "cell_type": "markdown",
      "metadata": {
        "id": "msIwtvqvIJ97"
      },
      "source": [
        "__Group 20__:\n",
        "- __Inês Rocha 20220052@novaims.unl.pt__\n",
        "- __Pedro Ferreira 20220589@novaims.unl.pt__\n",
        "- __Quintino Fernandes 20220634@novaims.unl.pt__"
      ]
    },
    {
      "cell_type": "markdown",
      "metadata": {
        "id": "kPLT2fcauYxe"
      },
      "source": [
        "_Dataset_: https://drive.google.com/drive/folders/1NJOCRQ3ynA4BEOvWj5Ypr6iwi108LfOh?usp=share_link\n",
        "\n",
        "(This is the non-zipped version, so one can see the images themselves. For the notebook, we use a zipped version, whose link is in the cell where the folder is imported. This is the dataset that we import to the model notebook, so it already has transformations that are made in preprocessing)."
      ]
    },
    {
      "cell_type": "markdown",
      "metadata": {
        "id": "6gPi1U6Quecw"
      },
      "source": [
        "_References:_\n",
        "1. [Algorithms for Skin Cancer Classification from Dermoscopic Images (2022)](https://www.ncbi.nlm.nih.gov/pmc/articles/PMC8945332/)\n",
        "2. [Skin Cancer Classification from Dermoscopic Images: A Systematic Review (2022)](https://www.mdpi.com/1999-4893/15/11/438)\n",
        "3. [Skin Cancer Classification: A Systematic Review (2022)](https://www.frontiersin.org/articles/10.3389/fonc.2022.893972/full)\n",
        "4.[KerasTuner](https://keras.io/guides/keras_tuner/getting_started/)"
      ]
    },
    {
      "cell_type": "markdown",
      "metadata": {
        "id": "G-s8EgK2N3EC"
      },
      "source": [
        "**Summary**:\n",
        "\n",
        "In this notebook we:\n",
        "\n",
        "- With keras' api we built the model to prepare it to do automatic hyperparameter tuning;\n",
        "\n",
        "- Then, we used keras tuner to use Random Search to tune the model, which goes through a parameter space, using them randomly in the model and checking the validation scores to determine which combination of parameters is the best."
      ]
    },
    {
      "cell_type": "markdown",
      "metadata": {
        "id": "OWmpi0MjIYBP"
      },
      "source": [
        "# 1. Import the dataset"
      ]
    },
    {
      "cell_type": "markdown",
      "metadata": {
        "id": "5MZ4fhDLvY2t"
      },
      "source": [
        "In this section we upload our dataset to the workbook filesystem and split our data into **train**, **test** and **validation** sets."
      ]
    },
    {
      "cell_type": "markdown",
      "metadata": {
        "id": "lkZRaxdewWu1"
      },
      "source": [
        "We begin by installing and importing the necessary libraries"
      ]
    },
    {
      "cell_type": "code",
      "execution_count": 1,
      "metadata": {
        "colab": {
          "base_uri": "https://localhost:8080/"
        },
        "id": "I1dtcmR2UHL2",
        "outputId": "18aa1d31-9927-474e-bfd7-51a6cb6c5d71"
      },
      "outputs": [
        {
          "name": "stdout",
          "output_type": "stream",
          "text": [
            "Looking in indexes: https://pypi.org/simple, https://us-python.pkg.dev/colab-wheels/public/simple/\n",
            "Collecting keras-tuner\n",
            "  Downloading keras_tuner-1.3.4-py3-none-any.whl (172 kB)\n",
            "\u001b[2K     \u001b[90m━━━━━━━━━━━━━━━━━━━━━━━━━━━━━━━━━━━━━━━\u001b[0m \u001b[32m172.2/172.2 KB\u001b[0m \u001b[31m7.5 MB/s\u001b[0m eta \u001b[36m0:00:00\u001b[0m\n",
            "\u001b[?25hRequirement already satisfied: packaging in /usr/local/lib/python3.9/dist-packages (from keras-tuner) (23.0)\n",
            "Requirement already satisfied: requests in /usr/local/lib/python3.9/dist-packages (from keras-tuner) (2.27.1)\n",
            "Requirement already satisfied: tensorflow>=2.0 in /usr/local/lib/python3.9/dist-packages (from keras-tuner) (2.12.0)\n",
            "Collecting kt-legacy\n",
            "  Downloading kt_legacy-1.0.4-py3-none-any.whl (9.6 kB)\n",
            "Requirement already satisfied: protobuf<=3.20.3 in /usr/local/lib/python3.9/dist-packages (from keras-tuner) (3.20.3)\n",
            "Requirement already satisfied: grpcio<2.0,>=1.24.3 in /usr/local/lib/python3.9/dist-packages (from tensorflow>=2.0->keras-tuner) (1.53.0)\n",
            "Requirement already satisfied: absl-py>=1.0.0 in /usr/local/lib/python3.9/dist-packages (from tensorflow>=2.0->keras-tuner) (1.4.0)\n",
            "Requirement already satisfied: gast<=0.4.0,>=0.2.1 in /usr/local/lib/python3.9/dist-packages (from tensorflow>=2.0->keras-tuner) (0.4.0)\n",
            "Requirement already satisfied: tensorflow-io-gcs-filesystem>=0.23.1 in /usr/local/lib/python3.9/dist-packages (from tensorflow>=2.0->keras-tuner) (0.32.0)\n",
            "Requirement already satisfied: numpy<1.24,>=1.22 in /usr/local/lib/python3.9/dist-packages (from tensorflow>=2.0->keras-tuner) (1.22.4)\n",
            "Requirement already satisfied: typing-extensions>=3.6.6 in /usr/local/lib/python3.9/dist-packages (from tensorflow>=2.0->keras-tuner) (4.5.0)\n",
            "Requirement already satisfied: termcolor>=1.1.0 in /usr/local/lib/python3.9/dist-packages (from tensorflow>=2.0->keras-tuner) (2.2.0)\n",
            "Requirement already satisfied: tensorflow-estimator<2.13,>=2.12.0 in /usr/local/lib/python3.9/dist-packages (from tensorflow>=2.0->keras-tuner) (2.12.0)\n",
            "Requirement already satisfied: tensorboard<2.13,>=2.12 in /usr/local/lib/python3.9/dist-packages (from tensorflow>=2.0->keras-tuner) (2.12.1)\n",
            "Requirement already satisfied: h5py>=2.9.0 in /usr/local/lib/python3.9/dist-packages (from tensorflow>=2.0->keras-tuner) (3.8.0)\n",
            "Requirement already satisfied: six>=1.12.0 in /usr/local/lib/python3.9/dist-packages (from tensorflow>=2.0->keras-tuner) (1.16.0)\n",
            "Requirement already satisfied: google-pasta>=0.1.1 in /usr/local/lib/python3.9/dist-packages (from tensorflow>=2.0->keras-tuner) (0.2.0)\n",
            "Requirement already satisfied: astunparse>=1.6.0 in /usr/local/lib/python3.9/dist-packages (from tensorflow>=2.0->keras-tuner) (1.6.3)\n",
            "Requirement already satisfied: setuptools in /usr/local/lib/python3.9/dist-packages (from tensorflow>=2.0->keras-tuner) (67.6.1)\n",
            "Requirement already satisfied: keras<2.13,>=2.12.0 in /usr/local/lib/python3.9/dist-packages (from tensorflow>=2.0->keras-tuner) (2.12.0)\n",
            "Requirement already satisfied: flatbuffers>=2.0 in /usr/local/lib/python3.9/dist-packages (from tensorflow>=2.0->keras-tuner) (23.3.3)\n",
            "Requirement already satisfied: libclang>=13.0.0 in /usr/local/lib/python3.9/dist-packages (from tensorflow>=2.0->keras-tuner) (16.0.0)\n",
            "Requirement already satisfied: wrapt<1.15,>=1.11.0 in /usr/local/lib/python3.9/dist-packages (from tensorflow>=2.0->keras-tuner) (1.14.1)\n",
            "Requirement already satisfied: jax>=0.3.15 in /usr/local/lib/python3.9/dist-packages (from tensorflow>=2.0->keras-tuner) (0.4.7)\n",
            "Requirement already satisfied: opt-einsum>=2.3.2 in /usr/local/lib/python3.9/dist-packages (from tensorflow>=2.0->keras-tuner) (3.3.0)\n",
            "Requirement already satisfied: certifi>=2017.4.17 in /usr/local/lib/python3.9/dist-packages (from requests->keras-tuner) (2022.12.7)\n",
            "Requirement already satisfied: urllib3<1.27,>=1.21.1 in /usr/local/lib/python3.9/dist-packages (from requests->keras-tuner) (1.26.15)\n",
            "Requirement already satisfied: charset-normalizer~=2.0.0 in /usr/local/lib/python3.9/dist-packages (from requests->keras-tuner) (2.0.12)\n",
            "Requirement already satisfied: idna<4,>=2.5 in /usr/local/lib/python3.9/dist-packages (from requests->keras-tuner) (3.4)\n",
            "Requirement already satisfied: wheel<1.0,>=0.23.0 in /usr/local/lib/python3.9/dist-packages (from astunparse>=1.6.0->tensorflow>=2.0->keras-tuner) (0.40.0)\n",
            "Requirement already satisfied: ml-dtypes>=0.0.3 in /usr/local/lib/python3.9/dist-packages (from jax>=0.3.15->tensorflow>=2.0->keras-tuner) (0.0.4)\n",
            "Requirement already satisfied: scipy>=1.7 in /usr/local/lib/python3.9/dist-packages (from jax>=0.3.15->tensorflow>=2.0->keras-tuner) (1.10.1)\n",
            "Requirement already satisfied: markdown>=2.6.8 in /usr/local/lib/python3.9/dist-packages (from tensorboard<2.13,>=2.12->tensorflow>=2.0->keras-tuner) (3.4.3)\n",
            "Requirement already satisfied: werkzeug>=1.0.1 in /usr/local/lib/python3.9/dist-packages (from tensorboard<2.13,>=2.12->tensorflow>=2.0->keras-tuner) (2.2.3)\n",
            "Requirement already satisfied: google-auth-oauthlib<1.1,>=0.5 in /usr/local/lib/python3.9/dist-packages (from tensorboard<2.13,>=2.12->tensorflow>=2.0->keras-tuner) (1.0.0)\n",
            "Requirement already satisfied: tensorboard-data-server<0.8.0,>=0.7.0 in /usr/local/lib/python3.9/dist-packages (from tensorboard<2.13,>=2.12->tensorflow>=2.0->keras-tuner) (0.7.0)\n",
            "Requirement already satisfied: google-auth<3,>=1.6.3 in /usr/local/lib/python3.9/dist-packages (from tensorboard<2.13,>=2.12->tensorflow>=2.0->keras-tuner) (2.17.1)\n",
            "Requirement already satisfied: tensorboard-plugin-wit>=1.6.0 in /usr/local/lib/python3.9/dist-packages (from tensorboard<2.13,>=2.12->tensorflow>=2.0->keras-tuner) (1.8.1)\n",
            "Requirement already satisfied: pyasn1-modules>=0.2.1 in /usr/local/lib/python3.9/dist-packages (from google-auth<3,>=1.6.3->tensorboard<2.13,>=2.12->tensorflow>=2.0->keras-tuner) (0.2.8)\n",
            "Requirement already satisfied: cachetools<6.0,>=2.0.0 in /usr/local/lib/python3.9/dist-packages (from google-auth<3,>=1.6.3->tensorboard<2.13,>=2.12->tensorflow>=2.0->keras-tuner) (5.3.0)\n",
            "Requirement already satisfied: rsa<5,>=3.1.4 in /usr/local/lib/python3.9/dist-packages (from google-auth<3,>=1.6.3->tensorboard<2.13,>=2.12->tensorflow>=2.0->keras-tuner) (4.9)\n",
            "Requirement already satisfied: requests-oauthlib>=0.7.0 in /usr/local/lib/python3.9/dist-packages (from google-auth-oauthlib<1.1,>=0.5->tensorboard<2.13,>=2.12->tensorflow>=2.0->keras-tuner) (1.3.1)\n",
            "Requirement already satisfied: importlib-metadata>=4.4 in /usr/local/lib/python3.9/dist-packages (from markdown>=2.6.8->tensorboard<2.13,>=2.12->tensorflow>=2.0->keras-tuner) (6.1.0)\n",
            "Requirement already satisfied: MarkupSafe>=2.1.1 in /usr/local/lib/python3.9/dist-packages (from werkzeug>=1.0.1->tensorboard<2.13,>=2.12->tensorflow>=2.0->keras-tuner) (2.1.2)\n",
            "Requirement already satisfied: zipp>=0.5 in /usr/local/lib/python3.9/dist-packages (from importlib-metadata>=4.4->markdown>=2.6.8->tensorboard<2.13,>=2.12->tensorflow>=2.0->keras-tuner) (3.15.0)\n",
            "Requirement already satisfied: pyasn1<0.5.0,>=0.4.6 in /usr/local/lib/python3.9/dist-packages (from pyasn1-modules>=0.2.1->google-auth<3,>=1.6.3->tensorboard<2.13,>=2.12->tensorflow>=2.0->keras-tuner) (0.4.8)\n",
            "Requirement already satisfied: oauthlib>=3.0.0 in /usr/local/lib/python3.9/dist-packages (from requests-oauthlib>=0.7.0->google-auth-oauthlib<1.1,>=0.5->tensorboard<2.13,>=2.12->tensorflow>=2.0->keras-tuner) (3.2.2)\n",
            "Installing collected packages: kt-legacy, keras-tuner\n",
            "Successfully installed keras-tuner-1.3.4 kt-legacy-1.0.4\n"
          ]
        }
      ],
      "source": [
        "!pip install keras-tuner"
      ]
    },
    {
      "cell_type": "code",
      "execution_count": 2,
      "metadata": {
        "id": "YVXC5DS2IaFN"
      },
      "outputs": [],
      "source": [
        "import tensorflow as tf\n",
        "import keras\n",
        "import keras_tuner\n",
        "from tensorflow.keras import datasets\n",
        "from tensorflow.keras.preprocessing import image_dataset_from_directory\n",
        "from tensorflow.keras import Sequential, layers, initializers, regularizers, optimizers, metrics \n",
        "from keras.engine.training import optimizer\n",
        "\n",
        "import os\n",
        "import shutil\n",
        "import random \n",
        "import zipfile\n",
        "\n",
        "import numpy as np\n",
        "import pandas as pd\n",
        "\n",
        "import seaborn as sns\n",
        "import matplotlib.pyplot as plt\n",
        "import matplotlib.image as mpimg\n",
        "from matplotlib.colors import ListedColormap\n",
        "\n",
        "from sklearn.model_selection import train_test_split\n",
        "\n",
        "import gdown"
      ]
    },
    {
      "cell_type": "markdown",
      "metadata": {
        "id": "L9K9tIvwuEY1"
      },
      "source": [
        "We upload the zip file with our Skin Cancer dataset."
      ]
    },
    {
      "cell_type": "code",
      "execution_count": 3,
      "metadata": {
        "colab": {
          "base_uri": "https://localhost:8080/",
          "height": 105
        },
        "id": "jBTZgdFoIah2",
        "outputId": "76cae3db-a5d5-4bda-b201-a4ea47513315"
      },
      "outputs": [
        {
          "name": "stderr",
          "output_type": "stream",
          "text": [
            "Downloading...\n",
            "From: https://drive.google.com/uc?id=1tQsRxytmTgUW3zV5VjYoOw467-23mZ1H\n",
            "To: /content/data.zip\n",
            "100%|██████████| 698M/698M [00:07<00:00, 89.3MB/s]\n"
          ]
        },
        {
          "data": {
            "application/vnd.google.colaboratory.intrinsic+json": {
              "type": "string"
            },
            "text/plain": [
              "'data.zip'"
            ]
          },
          "execution_count": 3,
          "metadata": {},
          "output_type": "execute_result"
        }
      ],
      "source": [
        "url = 'https://drive.google.com/uc?id=1tQsRxytmTgUW3zV5VjYoOw467-23mZ1H'\n",
        "output = 'data.zip'\n",
        "gdown.download(url, output, quiet=False)"
      ]
    },
    {
      "cell_type": "markdown",
      "metadata": {
        "id": "ogT-0V3Nw7xr"
      },
      "source": [
        "In this cell we extract the files from the data.zip file and loading into this workbook filesystem. "
      ]
    },
    {
      "cell_type": "code",
      "execution_count": 4,
      "metadata": {
        "id": "V6W5CKKRId6N"
      },
      "outputs": [],
      "source": [
        "zip_ = zipfile.ZipFile('data.zip')\n",
        "zip_.extractall()\n",
        "zip_.close()\n",
        "path = \"\""
      ]
    },
    {
      "cell_type": "markdown",
      "metadata": {
        "id": "poMazksRxV6f"
      },
      "source": [
        "After extracting all of the files, we define the paths for our train, test and validation folders."
      ]
    },
    {
      "cell_type": "code",
      "execution_count": 5,
      "metadata": {
        "id": "JaNyxVmqIeZG"
      },
      "outputs": [],
      "source": [
        "training_folder, val_folder, testing_folder = \"/content/transformed_data/transformed_train/\", \\\n",
        "\"/content/transformed_data/transformed_val/\", \"/content/transformed_data/transformed_test/\""
      ]
    },
    {
      "cell_type": "markdown",
      "metadata": {
        "id": "Ou7nd_STxlux"
      },
      "source": [
        "For the sake of ensuring that the data isn't continuously duplicated, we created this boolean flag for the function created bellow. "
      ]
    },
    {
      "cell_type": "code",
      "execution_count": 6,
      "metadata": {
        "id": "rWEBgCwZmzjy"
      },
      "outputs": [],
      "source": [
        "#Meter em True só na primeira vez\n",
        "run = True"
      ]
    },
    {
      "cell_type": "markdown",
      "metadata": {
        "id": "D2srrq7Wy_mV"
      },
      "source": [
        "The **function make__copies()**, receives a folders and copies each photo n times and then stores it in the same folder. We will use this function as way to balance the dataset."
      ]
    },
    {
      "cell_type": "code",
      "execution_count": 7,
      "metadata": {
        "id": "AclZ5wZBIfjd"
      },
      "outputs": [],
      "source": [
        "def make_n_copies(folder, n_copies):\n",
        "\n",
        "# Loop through each file in the images folder\n",
        "  for image in os.listdir(folder):\n",
        "    file_path = os.path.join(folder, image)\n",
        "    # Create n_copies of the file\n",
        "    for i in range(n_copies):\n",
        "      new_filename = f\"{image.split('.')[0]}_copy{i+1}.jpg\"\n",
        "      new_file_path = os.path.join(folder, new_filename)\n",
        "      shutil.copy(file_path, new_file_path)\n",
        "\n",
        "if run:\n",
        "  make_n_copies(training_folder + 'akiec', 18)\n",
        "  make_n_copies(training_folder + 'bcc', 11)\n",
        "  make_n_copies(training_folder + 'bkl', 5)\n",
        "  make_n_copies(training_folder + 'df', 51)\n",
        "  make_n_copies(training_folder + 'mel', 5)\n",
        "  make_n_copies(training_folder + 'vasc', 42)     \n"
      ]
    },
    {
      "cell_type": "markdown",
      "metadata": {
        "id": "1CrsJau5zlEC"
      },
      "source": [
        "We used the fuction **make_n_copies()**,to populate the target folders in all folders except **nv**, because it had significantly more records than the others."
      ]
    },
    {
      "cell_type": "markdown",
      "metadata": {
        "id": "ekWnQNnS0l6l"
      },
      "source": [
        "Here we define the main parameters to import the images from the directory to a tf dataset."
      ]
    },
    {
      "cell_type": "code",
      "execution_count": 8,
      "metadata": {
        "id": "RlUV9xGDIhqF"
      },
      "outputs": [],
      "source": [
        "image_size=(128,128)\n",
        "crop_to_aspect_ratio=True\n",
        "color_mode='rgb'\n",
        "batch_size=64\n",
        "label_mode=\"categorical\"\n",
        "validation_split=0.2\n",
        "shuffle=True\n",
        "seed=0"
      ]
    },
    {
      "cell_type": "markdown",
      "metadata": {
        "id": "ce-erShJ1CNh"
      },
      "source": [
        "We defined the **image size** for our dataset to be **128x128 pixels**, because its a standart measure for iamges and so that images with diferent shapes dont conflict with our models. \n",
        "\n",
        "Our label mode is **categorical**, since our optimization problem is to predict which type of skin cancer is present in an image."
      ]
    },
    {
      "cell_type": "markdown",
      "metadata": {
        "id": "kjAp1nRa2Lg3"
      },
      "source": [
        "In this next cell, we generate our 3 tf datasets to train and test our model, with the parameters that we defined in the cell above."
      ]
    },
    {
      "cell_type": "code",
      "execution_count": 9,
      "metadata": {
        "colab": {
          "base_uri": "https://localhost:8080/"
        },
        "id": "PLlT0d48Ikht",
        "outputId": "10f90c2b-3fd3-4f9c-b368-ee74787fe35e"
      },
      "outputs": [
        {
          "name": "stdout",
          "output_type": "stream",
          "text": [
            "Found 30185 files belonging to 7 classes.\n",
            "Found 1703 files belonging to 7 classes.\n",
            "Found 1503 files belonging to 7 classes.\n"
          ]
        }
      ],
      "source": [
        "# Generate an object of type tf.data.Dataset \n",
        "ds_train = image_dataset_from_directory(training_folder, \n",
        "                                                image_size=image_size,\n",
        "                                                crop_to_aspect_ratio=crop_to_aspect_ratio,\n",
        "                                                color_mode=color_mode,\n",
        "                                                batch_size=batch_size,\n",
        "                                                label_mode=label_mode, \n",
        "                                                shuffle=shuffle,\n",
        "                                                seed=seed)\n",
        "\n",
        "ds_val = image_dataset_from_directory(val_folder, \n",
        "                                       image_size=image_size,\n",
        "                                       crop_to_aspect_ratio=crop_to_aspect_ratio,\n",
        "                                       color_mode=color_mode,\n",
        "                                       batch_size=batch_size,\n",
        "                                       label_mode=label_mode,                                     \n",
        "                                       shuffle=shuffle,\n",
        "                                       seed=seed)\n",
        "\n",
        "ds_test = image_dataset_from_directory(testing_folder, \n",
        "                                       image_size=image_size,\n",
        "                                       crop_to_aspect_ratio=crop_to_aspect_ratio,\n",
        "                                       color_mode=color_mode,\n",
        "                                       batch_size=batch_size,\n",
        "                                       label_mode=label_mode,                                     \n",
        "                                       shuffle=shuffle,\n",
        "                                       seed=seed)"
      ]
    },
    {
      "cell_type": "markdown",
      "metadata": {
        "id": "af0ekYGE2hgB"
      },
      "source": [
        "After the creation of the ds_train/test/val datasets we can confirm that the function read all the files for each folder.\n"
      ]
    },
    {
      "cell_type": "markdown",
      "metadata": {
        "id": "In0N5JPG3kmO"
      },
      "source": [
        "Here we print the class name of the ds_train to confim that we have all the target labels."
      ]
    },
    {
      "cell_type": "code",
      "execution_count": 10,
      "metadata": {
        "colab": {
          "base_uri": "https://localhost:8080/"
        },
        "id": "IX5Dy7tolnWf",
        "outputId": "ff8f0f09-9ae9-4d57-e9ed-335eb04f4402"
      },
      "outputs": [
        {
          "name": "stdout",
          "output_type": "stream",
          "text": [
            "['akiec', 'bcc', 'bkl', 'df', 'mel', 'nv', 'vasc']\n"
          ]
        }
      ],
      "source": [
        "print(ds_train.class_names)"
      ]
    },
    {
      "cell_type": "markdown",
      "metadata": {
        "id": "aqtAGy9yIn2i"
      },
      "source": [
        "Legend of what exactly the target names stand for:\n",
        "- \"akiec\": actinic keratoses and intraepithelial carcinoma / Bowen's disease\n",
        "- \"bcc\": basal cell carcinoma\n",
        "- \"bkl\": benign keratosis-like lesions (solar lentigines / seborrheic keratoses and lichen-planus like keratoses)\n",
        "- \"df\": dermatofibroma\n",
        "- \"mel\": melanoma\n",
        "- \"nv\": melanocytic nevi\n",
        "- \"vasc\": vascular lesions (angiomas, angiokeratomas, pyogenic granulomas and hemorrhage, vasc)\n"
      ]
    },
    {
      "cell_type": "markdown",
      "metadata": {
        "id": "kGosDaXxIq4c"
      },
      "source": [
        "# 1. Model definition"
      ]
    },
    {
      "cell_type": "markdown",
      "metadata": {
        "id": "xsPRe1jQIxs1"
      },
      "source": [
        "First of all, we need to define some things prior to starting the models. Below we iterate in our training, particularly to get the input shape automatically."
      ]
    },
    {
      "cell_type": "code",
      "execution_count": 11,
      "metadata": {
        "id": "0G3nqdeoI2SM"
      },
      "outputs": [],
      "source": [
        "iter_train = iter(ds_train)\n",
        "batch_x_train, batch_y_train = iter_train.next()\n",
        "input_shape = tuple(batch_x_train.shape)"
      ]
    },
    {
      "cell_type": "markdown",
      "metadata": {
        "id": "9wf5_8Pw4TgL"
      },
      "source": [
        "The function below is based on the procedure of our deep learning classes. We input the model, learning rate and nr of epochs and it will give us a print of each epoch's measures. We added the precision and recall to the accuracy and AUC because we have an unbalanced set and even having oversampled the training set, we kept the other two sets unbalanced, because we thought it would simulate better real life.\n",
        "\n",
        "The function will also return the history callbacks of the model, so we can later use them to compare models. We also added the f1score to the history dataframe we are outputing, using the precision and recall, because it is a good measure of quality of a model with imbalanced data."
      ]
    },
    {
      "cell_type": "code",
      "execution_count": 38,
      "metadata": {
        "id": "YAK49QC5I9et"
      },
      "outputs": [],
      "source": [
        "def compilation(cnn, epochs = 10, optimizer = tf.keras.optimizers.legacy.SGD(learning_rate=0.001)):\n",
        "  cnn.compile(loss=\"categorical_crossentropy\", \n",
        "              optimizer=optimizer,  \n",
        "              metrics=[\n",
        "                       metrics.AUC(name='AUROC'),\n",
        "                       metrics.CategoricalAccuracy(name='accuracy'),\n",
        "                       metrics.Precision(name='precision'),\n",
        "                       metrics.Recall(name='recall')])\n",
        "  \n",
        "  history = cnn.fit(ds_train, validation_data=ds_val, epochs=epochs, verbose=1)\n",
        "  # 3. \n",
        "  df_hist = pd.DataFrame.from_dict(history.history)\n",
        "  df_hist[\"Epoch\"] = np.arange(1, len(df_hist) + 1, 1)\n",
        "\n",
        "  #calculating the f1score for each epoch (train and validation)\n",
        "  df_hist['f1'] = 2*(df_hist['precision']*df_hist['recall'])/(df_hist['precision'] + df_hist['recall'])\n",
        "  df_hist['val_f1'] = 2*(df_hist['val_precision']*df_hist['val_recall'])/(df_hist['val_precision']+df_hist['val_recall'])\n",
        "  \n",
        "  return df_hist"
      ]
    },
    {
      "cell_type": "markdown",
      "metadata": {
        "id": "KGNUiIKd48ul"
      },
      "source": [
        "The function below, also based on the classes, to plot the progress of the model through the epochs. Because of the imbalance, we decided it would be more important to plot the f1_score, while still keeping an eye on the accuracy, so the rest of the measures won't be seen in this plot, but will always be visible inside the model's history. The loss function will also always be present."
      ]
    },
    {
      "cell_type": "code",
      "execution_count": 13,
      "metadata": {
        "id": "QmH4-kHRI-F9"
      },
      "outputs": [],
      "source": [
        "def plot_hist(df_hist):\n",
        "  secondary_y = [\"f1\", \"val_f1\", \"accuracy\", \"val_accuracy\"] \n",
        "\n",
        "  ax = df_hist.plot(x=\"Epoch\", y=['loss', 'val_loss'] + secondary_y,\n",
        "                    secondary_y = secondary_y, \n",
        "                    kind=\"line\", figsize=(6, 3), grid=True, legend=True,\n",
        "                    ylabel=\"Categorical cross-entropy\", \n",
        "                    xlabel=\"Epoch\", title=\"Learning curves\", \n",
        "                    style=[\".--\", \".-\"]*3,\n",
        "                    color=['darkred', 'indianred', \"darkblue\", \"royalblue\", \"seagreen\", \"darkseagreen\"], \n",
        "                          alpha=0.75, fontsize=10)\n",
        "  ax.right_ax.set_ylabel(\"F1 Score and Accuracy\")\n",
        "  ax.right_ax.legend(loc=(1.15, 0.65), framealpha=1.0)\n",
        "  ax.right_ax.set_ylim(0.45, 1.05)\n",
        "  ax.legend(loc=(1.15, 0.40), framealpha=1.0)\n",
        "  plt.show()"
      ]
    },
    {
      "cell_type": "markdown",
      "metadata": {
        "id": "cgtQaqnd5O5r"
      },
      "source": [
        "As mentioned in the previous notebook, our base model's architecture would be the ResNet so now we define again the Bottleneck block classes, based on keras models. "
      ]
    },
    {
      "cell_type": "code",
      "execution_count": 14,
      "metadata": {
        "id": "y8ROuqWQJGaF"
      },
      "outputs": [],
      "source": [
        "class BottleneckBlock(tf.keras.Model):  \n",
        "    def __init__(self, in_filters, squeeze=4, expand=1, downsample=False, seed=0):\n",
        "        super().__init__()\n",
        "        # Store values as instance attributes\n",
        "        self.downsample = downsample        \n",
        "        self.expand = expand\n",
        "        self._squeeze = in_filters//squeeze    \n",
        "        # Low dimensional projection\n",
        "        self.conv1 = layers.Conv2D(self._squeeze, kernel_size=1, padding='same',\n",
        "                                   strides=2 if self.downsample else 1,\n",
        "                                   kernel_initializer=initializers.GlorotNormal(seed=seed))\n",
        "        # Perform feature extraction on the reduced feature maps\n",
        "        self.conv2 = layers.Conv2D(self._squeeze, kernel_size=3, padding='same',\n",
        "                                   kernel_initializer=initializers.GlorotNormal(seed=seed))\n",
        "        # High dimensional projection\n",
        "        self.conv3 = layers.Conv2D(in_filters*self.expand, kernel_size=1, padding='same',\n",
        "                                   kernel_initializer=initializers.GlorotNormal(seed=seed))\n",
        "        self.relu = layers.Activation(\"relu\")\n",
        "        self.bn1 = layers.BatchNormalization()\n",
        "        self.bn2 = layers.BatchNormalization()\n",
        "        self.bn3 = layers.BatchNormalization()\n",
        "        if self.expand > 1 or self.downsample:\n",
        "            self.conv1x1 = layers.Conv2D(in_filters*self.expand, kernel_size=1, \n",
        "                                         strides=2 if self.downsample else 1,\n",
        "                                         kernel_initializer=initializers.GlorotNormal(seed=seed))\n",
        "    \n",
        "    def call(self, inputs):        \n",
        "        x = self.conv1(inputs)\n",
        "        x = self.bn1(x)\n",
        "        x = self.relu(x)\n",
        "        x = self.conv2(x)\n",
        "        x = self.bn2(x)\n",
        "        x = self.relu(x)\n",
        "        x = self.conv3(x)\n",
        "        x = self.bn3(x)\n",
        "        if self.expand > 1 or self.downsample:\n",
        "            x += self.conv1x1(inputs) \n",
        "        else:\n",
        "            x += inputs\n",
        "        x = self.relu(x)        \n",
        "        return x"
      ]
    },
    {
      "cell_type": "markdown",
      "metadata": {
        "id": "XvRe0jxN51Si"
      },
      "source": [
        "# Hyperparameter search"
      ]
    },
    {
      "cell_type": "markdown",
      "metadata": {
        "id": "j2WhY9J__zAm"
      },
      "source": [
        "## Building the model"
      ]
    },
    {
      "cell_type": "markdown",
      "metadata": {
        "id": "oTBnStAu592D"
      },
      "source": [
        "Here we define the architecture of one of our best models and we define the fuction **build_model()**, based on the Keras API Reference. Bellow we will check which parameters are better for the:\n",
        "\n",
        "\n",
        "*   Activation function\n",
        "*   Learning Rate\n",
        "* Weight Decay\n",
        "* Optimizer\n",
        "\n"
      ]
    },
    {
      "cell_type": "code",
      "execution_count": 21,
      "metadata": {
        "colab": {
          "base_uri": "https://localhost:8080/"
        },
        "id": "2YzvQAHdS4zZ",
        "outputId": "57d5c221-4719-4454-e665-55e5bbeb7caf"
      },
      "outputs": [
        {
          "data": {
            "text/plain": [
              "<keras.engine.functional.Functional at 0x7fa670053ee0>"
            ]
          },
          "execution_count": 21,
          "metadata": {},
          "output_type": "execute_result"
        }
      ],
      "source": [
        "def build_model(hp):\n",
        "    inputs = layers.Input(shape=input_shape[1:])\n",
        "    x = layers.BatchNormalization()(inputs)\n",
        "    # Conv1\n",
        "    x = layers.Conv2D(filters=128, kernel_size=7, strides=2, padding='same',\n",
        "                                      kernel_initializer=initializers.GlorotNormal(seed=seed))(x)\n",
        "    # BN1\n",
        "    x = layers.BatchNormalization()(x)\n",
        "    # ReLU\n",
        "    x = layers.Activation(hp.Choice(\"activation\",[\"relu\", \"tanh\",\"elu\", \"selu\"]))(x)\n",
        "    # MP\n",
        "    x = layers.MaxPooling2D(pool_size=3, strides=2)(x)\n",
        "    # BB\n",
        "    x = BottleneckBlock(256, squeeze=1, expand=2, downsample=True, seed=seed)(x)\n",
        "    # GMP\n",
        "    x = layers.GlobalMaxPooling2D()(x)\n",
        "    # Dense1\n",
        "    y_pred = layers.Dense(units=7, activation=\"softmax\", \n",
        "                                      kernel_initializer=initializers.GlorotNormal(seed=seed))(x)\n",
        "\n",
        "    model = keras.Model(inputs, y_pred)\n",
        "    lr = hp.Float(\"lr\", min_value=1e-4, max_value=1e-2, sampling=\"linear\")\n",
        "    wd = hp.Float(name=\"wd\",min_value = 0,max_value=0.01,step=0.002)\n",
        "    optimizer = hp.Choice(\"optimizer\", ['SGD', 'adam', 'RMSprop'])\n",
        "    optimizer_dict = {\n",
        "        'SGD': keras.optimizers.SGD,\n",
        "        'adam': keras.optimizers.Adam,\n",
        "        'RMSprop': keras.optimizers.RMSprop,\n",
        "    }\n",
        "\n",
        "    optimizer_obj = optimizer_dict[optimizer]\n",
        "    model.compile(\n",
        "        optimizer=optimizer_obj(learning_rate=lr, decay=wd),\n",
        "        loss=\"categorical_crossentropy\",\n",
        "        metrics=[\"accuracy\"],\n",
        "    )\n",
        "    return model\n",
        "\n",
        "\n",
        "build_model(keras_tuner.HyperParameters())\n"
      ]
    },
    {
      "cell_type": "markdown",
      "metadata": {
        "id": "EoU5D2ir7Ae2"
      },
      "source": [
        "This function returned the built modeland its now ready to undergo on the Random Search."
      ]
    },
    {
      "cell_type": "markdown",
      "metadata": {
        "id": "vI2vlCc__gcT"
      },
      "source": [
        "## Random Search"
      ]
    },
    {
      "cell_type": "markdown",
      "metadata": {
        "id": "e24aAVbo7dSR"
      },
      "source": [
        "Here we define our keras tuner that will do 10 trial and will do 2 executions per trial. Our objetive is to maximize the models val_accuracy without underfitting it."
      ]
    },
    {
      "cell_type": "code",
      "execution_count": 22,
      "metadata": {
        "id": "j8wIuc8SS4o_"
      },
      "outputs": [],
      "source": [
        "hp = keras_tuner.HyperParameters()"
      ]
    },
    {
      "cell_type": "code",
      "execution_count": 23,
      "metadata": {
        "id": "VLSIyU4jUecX"
      },
      "outputs": [],
      "source": [
        "tuner = keras_tuner.RandomSearch(\n",
        "    hypermodel=build_model,\n",
        "    objective=\"val_accuracy\",\n",
        "    max_trials= 2,\n",
        "    executions_per_trial=1,\n",
        "    overwrite=True,\n",
        "    directory=\"my_dir\",\n",
        "    project_name=\"skinCancer\",\n",
        ")"
      ]
    },
    {
      "cell_type": "code",
      "execution_count": 24,
      "metadata": {
        "colab": {
          "base_uri": "https://localhost:8080/"
        },
        "id": "VAOJDZPDUfwk",
        "outputId": "da553f37-5840-4882-af1d-b3d918afe174"
      },
      "outputs": [
        {
          "name": "stdout",
          "output_type": "stream",
          "text": [
            "Search space summary\n",
            "Default search space size: 4\n",
            "activation (Choice)\n",
            "{'default': 'relu', 'conditions': [], 'values': ['relu', 'tanh', 'elu', 'selu'], 'ordered': False}\n",
            "lr (Float)\n",
            "{'default': 0.0001, 'conditions': [], 'min_value': 0.0001, 'max_value': 0.01, 'step': None, 'sampling': 'linear'}\n",
            "wd (Float)\n",
            "{'default': 0.0, 'conditions': [], 'min_value': 0.0, 'max_value': 0.01, 'step': 0.002, 'sampling': 'linear'}\n",
            "optimizer (Choice)\n",
            "{'default': 'SGD', 'conditions': [], 'values': ['SGD', 'adam', 'RMSprop'], 'ordered': False}\n"
          ]
        }
      ],
      "source": [
        "tuner.search_space_summary()"
      ]
    },
    {
      "cell_type": "markdown",
      "metadata": {
        "id": "8URbNWz78M0j"
      },
      "source": [
        "**tuner.search_space_summary()** function sumarizes and prints out, our models search space."
      ]
    },
    {
      "cell_type": "markdown",
      "metadata": {
        "id": "hdO_S-x38cPw"
      },
      "source": [
        "The function **tuner.search()** will train our model multiple times with different parameters randomly appointed. \n",
        "In this case we opted for: \n",
        "\n",
        "*   10 Trials\n",
        "*   2 Executions per trial\n",
        "*   10 Epochs per Execution\n",
        "\n"
      ]
    },
    {
      "cell_type": "code",
      "execution_count": null,
      "metadata": {
        "colab": {
          "base_uri": "https://localhost:8080/"
        },
        "id": "-SMGne0eUmjY",
        "outputId": "039ae852-7f19-4943-a093-12bce6c46e81"
      },
      "outputs": [
        {
          "name": "stdout",
          "output_type": "stream",
          "text": [
            "Trial 10 Complete [00h 24m 57s]\n",
            "val_accuracy: 0.7856723368167877\n",
            "\n",
            "Best val_accuracy So Far: 0.7956547141075134\n",
            "Total elapsed time: 04h 20m 06s\n"
          ]
        }
      ],
      "source": [
        "tuner.search(ds_train, epochs=10, validation_data=(ds_val))\n"
      ]
    },
    {
      "cell_type": "markdown",
      "metadata": {
        "id": "A5Q5gn_49QnD"
      },
      "source": [
        "Unfortunately, google colab's gpu runtime interrupted and we could not salvage the summary of the bigger random search."
      ]
    },
    {
      "cell_type": "markdown",
      "metadata": {
        "id": "fv1u_3UkkyCi"
      },
      "source": [
        "The function **tuner.search()** will train our model multiple times with different parameters randomly appointed. \n",
        "In this case we opted for: \n",
        "\n",
        "*   2 Trials\n",
        "*   1 Executions per trial\n",
        "*   10 Epochs per Execution\n",
        "\n"
      ]
    },
    {
      "cell_type": "code",
      "execution_count": 25,
      "metadata": {
        "colab": {
          "base_uri": "https://localhost:8080/"
        },
        "id": "XxEedG12WFqt",
        "outputId": "62c2a823-e62b-48d1-cdeb-56f590ad0deb"
      },
      "outputs": [
        {
          "name": "stdout",
          "output_type": "stream",
          "text": [
            "Trial 2 Complete [00h 12m 43s]\n",
            "val_accuracy: 0.7944803237915039\n",
            "\n",
            "Best val_accuracy So Far: 0.7944803237915039\n",
            "Total elapsed time: 00h 25m 24s\n",
            "Results summary\n",
            "Results in my_dir/skinCancer\n",
            "Showing 10 best trials\n",
            "Objective(name=\"val_accuracy\", direction=\"max\")\n",
            "\n",
            "Trial 1 summary\n",
            "Hyperparameters:\n",
            "activation: relu\n",
            "lr: 0.005092414208114357\n",
            "wd: 0.01\n",
            "optimizer: RMSprop\n",
            "Score: 0.7944803237915039\n",
            "\n",
            "Trial 0 summary\n",
            "Hyperparameters:\n",
            "activation: tanh\n",
            "lr: 0.00010271267758991986\n",
            "wd: 0.004\n",
            "optimizer: RMSprop\n",
            "Score: 0.7604227662086487\n"
          ]
        }
      ],
      "source": [
        "tuner.search(ds_train, epochs=10, validation_data=(ds_val))\n",
        "tuner.results_summary()"
      ]
    },
    {
      "cell_type": "markdown",
      "metadata": {
        "id": "AcRirZ3D-qae"
      },
      "source": [
        "We can see that RMSprop was the best in both trials. The best trial was Trial 1, although this was a small search because of time and google's runtime concerns, so with a bigger search we probably would have better results."
      ]
    },
    {
      "cell_type": "markdown",
      "metadata": {
        "id": "Jz8Oy3vj9Y8M"
      },
      "source": [
        "In this next cell we save our models and print out ths summary of the best one."
      ]
    },
    {
      "cell_type": "code",
      "execution_count": 40,
      "metadata": {
        "colab": {
          "base_uri": "https://localhost:8080/"
        },
        "id": "vkoPQfJ3pRmM",
        "outputId": "6b7c5d37-74dd-44c5-e189-9531c6acdafb"
      },
      "outputs": [
        {
          "name": "stdout",
          "output_type": "stream",
          "text": [
            "Model: \"model\"\n",
            "_________________________________________________________________\n",
            " Layer (type)                Output Shape              Param #   \n",
            "=================================================================\n",
            " input_1 (InputLayer)        [(None, 128, 128, 3)]     0         \n",
            "                                                                 \n",
            " batch_normalization (BatchN  (None, 128, 128, 3)      12        \n",
            " ormalization)                                                   \n",
            "                                                                 \n",
            " conv2d (Conv2D)             (None, 64, 64, 128)       18944     \n",
            "                                                                 \n",
            " batch_normalization_1 (Batc  (None, 64, 64, 128)      512       \n",
            " hNormalization)                                                 \n",
            "                                                                 \n",
            " activation (Activation)     (None, 64, 64, 128)       0         \n",
            "                                                                 \n",
            " max_pooling2d (MaxPooling2D  (None, 31, 31, 128)      0         \n",
            " )                                                               \n",
            "                                                                 \n",
            " bottleneck_block (Bottlenec  (None, 16, 16, 512)      824832    \n",
            " kBlock)                                                         \n",
            "                                                                 \n",
            " global_max_pooling2d (Globa  (None, 512)              0         \n",
            " lMaxPooling2D)                                                  \n",
            "                                                                 \n",
            " dense (Dense)               (None, 7)                 3591      \n",
            "                                                                 \n",
            "=================================================================\n",
            "Total params: 847,891\n",
            "Trainable params: 845,581\n",
            "Non-trainable params: 2,310\n",
            "_________________________________________________________________\n"
          ]
        }
      ],
      "source": [
        "models = tuner.get_best_models(num_models=2)\n",
        "bm = models[0]\n",
        "\n",
        "#Here we build our best model to later compile it and compare with\n",
        "bm.build(input_shape=(3, 128, 128))\n",
        "bm.summary()"
      ]
    },
    {
      "cell_type": "markdown",
      "metadata": {
        "id": "qSLoM1jF-LeF"
      },
      "source": [
        "As we can see, the architecture of the model is the same as the one we input into random search."
      ]
    },
    {
      "cell_type": "markdown",
      "metadata": {
        "id": "GRpFMPvv_I92"
      },
      "source": [
        "# Model Comparison"
      ]
    },
    {
      "cell_type": "code",
      "execution_count": 41,
      "metadata": {
        "colab": {
          "base_uri": "https://localhost:8080/"
        },
        "id": "7GwiTJrS_H_G",
        "outputId": "95e888ba-fe09-4327-d2eb-cec72ed42130"
      },
      "outputs": [
        {
          "name": "stderr",
          "output_type": "stream",
          "text": [
            "WARNING:tensorflow:Detecting that an object or model or tf.train.Checkpoint is being deleted with unrestored values. See the following logs for the specific values in question. To silence these warnings, use `status.expect_partial()`. See https://www.tensorflow.org/api_docs/python/tf/train/Checkpoint#restorefor details about the status object returned by the restore function.\n",
            "WARNING:tensorflow:Value in checkpoint could not be found in the restored object: (root).optimizer.iter\n",
            "WARNING:tensorflow:Value in checkpoint could not be found in the restored object: (root).optimizer.decay\n",
            "WARNING:tensorflow:Value in checkpoint could not be found in the restored object: (root).optimizer.learning_rate\n",
            "WARNING:tensorflow:Value in checkpoint could not be found in the restored object: (root).optimizer.momentum\n",
            "WARNING:tensorflow:Value in checkpoint could not be found in the restored object: (root).optimizer.rho\n"
          ]
        },
        {
          "name": "stdout",
          "output_type": "stream",
          "text": [
            "Epoch 1/15\n",
            "472/472 [==============================] - 76s 153ms/step - loss: 1.1526 - AUROC: 0.8984 - accuracy: 0.5959 - precision: 0.7074 - recall: 0.4669 - val_loss: 0.8395 - val_AUROC: 0.9423 - val_accuracy: 0.6994 - val_precision: 0.7735 - val_recall: 0.6277\n",
            "Epoch 2/15\n",
            "472/472 [==============================] - 72s 150ms/step - loss: 0.6591 - AUROC: 0.9631 - accuracy: 0.7564 - precision: 0.8120 - recall: 0.6949 - val_loss: 1.0088 - val_AUROC: 0.9341 - val_accuracy: 0.6512 - val_precision: 0.6814 - val_recall: 0.6166\n",
            "Epoch 3/15\n",
            "472/472 [==============================] - 72s 151ms/step - loss: 0.4687 - AUROC: 0.9804 - accuracy: 0.8276 - precision: 0.8619 - recall: 0.7954 - val_loss: 0.9656 - val_AUROC: 0.9408 - val_accuracy: 0.6988 - val_precision: 0.7207 - val_recall: 0.6712\n",
            "Epoch 4/15\n",
            "472/472 [==============================] - 72s 151ms/step - loss: 0.3708 - AUROC: 0.9868 - accuracy: 0.8661 - precision: 0.8878 - recall: 0.8458 - val_loss: 2.0262 - val_AUROC: 0.8516 - val_accuracy: 0.5420 - val_precision: 0.5567 - val_recall: 0.5302\n",
            "Epoch 5/15\n",
            "472/472 [==============================] - 71s 149ms/step - loss: 0.3100 - AUROC: 0.9899 - accuracy: 0.8919 - precision: 0.9066 - recall: 0.8781 - val_loss: 1.5402 - val_AUROC: 0.8967 - val_accuracy: 0.6424 - val_precision: 0.6568 - val_recall: 0.6248\n",
            "Epoch 6/15\n",
            "472/472 [==============================] - 73s 152ms/step - loss: 0.2745 - AUROC: 0.9917 - accuracy: 0.9068 - precision: 0.9157 - recall: 0.8977 - val_loss: 1.2296 - val_AUROC: 0.9338 - val_accuracy: 0.7434 - val_precision: 0.7574 - val_recall: 0.7334\n",
            "Epoch 7/15\n",
            "472/472 [==============================] - 72s 151ms/step - loss: 0.2463 - AUROC: 0.9929 - accuracy: 0.9151 - precision: 0.9241 - recall: 0.9081 - val_loss: 1.1457 - val_AUROC: 0.9386 - val_accuracy: 0.7422 - val_precision: 0.7542 - val_recall: 0.7317\n",
            "Epoch 8/15\n",
            "472/472 [==============================] - 71s 148ms/step - loss: 0.2252 - AUROC: 0.9934 - accuracy: 0.9226 - precision: 0.9285 - recall: 0.9174 - val_loss: 1.3625 - val_AUROC: 0.9225 - val_accuracy: 0.6858 - val_precision: 0.6981 - val_recall: 0.6735\n",
            "Epoch 9/15\n",
            "472/472 [==============================] - 71s 149ms/step - loss: 0.2044 - AUROC: 0.9944 - accuracy: 0.9327 - precision: 0.9373 - recall: 0.9286 - val_loss: 1.7927 - val_AUROC: 0.8979 - val_accuracy: 0.6359 - val_precision: 0.6408 - val_recall: 0.6254\n",
            "Epoch 10/15\n",
            "472/472 [==============================] - 71s 148ms/step - loss: 0.1882 - AUROC: 0.9946 - accuracy: 0.9394 - precision: 0.9434 - recall: 0.9361 - val_loss: 1.5568 - val_AUROC: 0.9256 - val_accuracy: 0.7369 - val_precision: 0.7424 - val_recall: 0.7275\n",
            "Epoch 11/15\n",
            "472/472 [==============================] - 71s 149ms/step - loss: 0.1780 - AUROC: 0.9954 - accuracy: 0.9426 - precision: 0.9450 - recall: 0.9399 - val_loss: 1.5600 - val_AUROC: 0.9265 - val_accuracy: 0.7581 - val_precision: 0.7626 - val_recall: 0.7528\n",
            "Epoch 12/15\n",
            "472/472 [==============================] - 72s 152ms/step - loss: 0.1631 - AUROC: 0.9955 - accuracy: 0.9482 - precision: 0.9506 - recall: 0.9467 - val_loss: 1.5874 - val_AUROC: 0.9202 - val_accuracy: 0.7387 - val_precision: 0.7445 - val_recall: 0.7358\n",
            "Epoch 13/15\n",
            "472/472 [==============================] - 72s 149ms/step - loss: 0.1668 - AUROC: 0.9951 - accuracy: 0.9512 - precision: 0.9525 - recall: 0.9493 - val_loss: 1.5921 - val_AUROC: 0.9246 - val_accuracy: 0.7440 - val_precision: 0.7509 - val_recall: 0.7399\n",
            "Epoch 14/15\n",
            "472/472 [==============================] - 72s 150ms/step - loss: 0.1454 - AUROC: 0.9960 - accuracy: 0.9552 - precision: 0.9570 - recall: 0.9540 - val_loss: 3.4587 - val_AUROC: 0.8205 - val_accuracy: 0.5379 - val_precision: 0.5415 - val_recall: 0.5326\n",
            "Epoch 15/15\n",
            "472/472 [==============================] - 71s 148ms/step - loss: 0.1499 - AUROC: 0.9953 - accuracy: 0.9569 - precision: 0.9580 - recall: 0.9557 - val_loss: 2.6785 - val_AUROC: 0.8838 - val_accuracy: 0.6794 - val_precision: 0.6849 - val_recall: 0.6765\n"
          ]
        }
      ],
      "source": [
        "hyper_model = compilation(bm, 15, tf.keras.optimizers.RMSprop(learning_rate = 0.005092414208114357))"
      ]
    },
    {
      "cell_type": "markdown",
      "metadata": {
        "id": "vhobpzMxjXpZ"
      },
      "source": [
        "Below, let's see a comparison of the hyper parameter tuned model to the one we iteratively built before. On top is the learning curve for the former, below it is the one for the latter."
      ]
    },
    {
      "cell_type": "code",
      "execution_count": 42,
      "metadata": {
        "colab": {
          "base_uri": "https://localhost:8080/",
          "height": 333
        },
        "id": "4ivTE6Fziz9O",
        "outputId": "26c2501c-002e-4002-fad6-d3e4c9701399"
      },
      "outputs": [
        {
          "data": {
            "image/png": "[encoded data removed]",
            "text/plain": [
              "<Figure size 600x300 with 2 Axes>"
            ]
          },
          "metadata": {},
          "output_type": "display_data"
        }
      ],
      "source": [
        "plot_hist(hyper_model)"
      ]
    },
    {
      "cell_type": "markdown",
      "metadata": {
        "id": "gkvxV5QkjSWU"
      },
      "source": [
        "![image.png](data:image/png;base64,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)"
      ]
    },
    {
      "cell_type": "markdown",
      "metadata": {
        "id": "ynoCy3lIjWGJ"
      },
      "source": [
        "Unfortunately, the automatically tuned model did not reach the performance of the best model we got by handcrafting. The validation scores are lower for the f1 score and accuracy. The loss function also did not seem to reach the lows of the one in our best model."
      ]
    },
    {
      "cell_type": "markdown",
      "metadata": {
        "id": "q_PrDDr7j44X"
      },
      "source": [
        "Now let's compare the models' main metrics, the f1 score and the accuracy. Just like before, on top are the metrics for the hyper model."
      ]
    },
    {
      "cell_type": "code",
      "execution_count": 45,
      "metadata": {
        "colab": {
          "base_uri": "https://localhost:8080/"
        },
        "id": "vtTpy14gjAK8",
        "outputId": "1e90ecb2-acd6-4896-e1aa-9e8809668f96"
      },
      "outputs": [
        {
          "name": "stdout",
          "output_type": "stream",
          "text": [
            "Test Accuracy: 0.6679973602294922\n",
            "Test f1_score: 0.6693413589374272\n"
          ]
        }
      ],
      "source": [
        "test_scores_hyper = bm.evaluate(ds_test,verbose = 0)\n",
        "\n",
        "print(f'Test Accuracy: {test_scores_hyper[2]}')\n",
        "\n",
        "print(f'Test f1_score: {2*test_scores_hyper[-2]*test_scores_hyper[-1]/(test_scores_hyper[-2]+test_scores_hyper[-1])}')"
      ]
    },
    {
      "cell_type": "markdown",
      "metadata": {
        "id": "8Rb2ORGSjQaI"
      },
      "source": [
        "![image.png](data:image/png;base64,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)"
      ]
    },
    {
      "cell_type": "markdown",
      "metadata": {
        "id": "--eiQYd3v3Zj"
      },
      "source": [
        "Our best handcrafted model outperformed this new one by a large margin. This is probably because we didn't manage to get a big hyperparameter automatic search because of runtime and time constraints. In spite of that, we ended up with a fairly good model, even if handcrafted, which reaches the scores of around 80%."
      ]
    }
  ],
  "metadata": {
    "accelerator": "GPU",
    "colab": {
      "gpuType": "T4",
      "provenance": []
    },
    "gpuClass": "standard",
    "kernelspec": {
      "display_name": "Python 3",
      "name": "python3"
    },
    "language_info": {
      "name": "python"
    }
  },
  "nbformat": 4,
  "nbformat_minor": 0
}
