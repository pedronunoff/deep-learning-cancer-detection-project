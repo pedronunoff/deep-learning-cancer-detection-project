{
 "cells": [
  {
   "cell_type": "markdown",
   "id": "XNvr-CI6jh_n",
   "metadata": {
    "id": "XNvr-CI6jh_n"
   },
   "source": [
    "__Group 20__:\n",
    "- __Inês Rocha 20220052@novaims.unl.pt__\n",
    "- __Pedro Ferreira 20220589@novaims.unl.pt__\n",
    "- __Quintino Fernandes 20220634@novaims.unl.pt__"
   ]
  },
  {
   "cell_type": "markdown",
   "id": "3B63N6OJlEX2",
   "metadata": {
    "id": "3B63N6OJlEX2"
   },
   "source": [
    "__Dataset__: https://drive.google.com/drive/folders/1NJOCRQ3ynA4BEOvWj5Ypr6iwi108LfOh?usp=share_link\n",
    "\n",
    "(This is the non-zipped version, so one can see the images themselves. For the notebook, we use a zipped version, whose link is in the cell where the folder is imported. This is the dataset that we import to the model notebook, so it already has transformations that are made in preprocessing)."
   ]
  },
  {
   "cell_type": "markdown",
   "id": "46OOZ07nuOmf",
   "metadata": {
    "id": "46OOZ07nuOmf"
   },
   "source": [
    "_References:_\n",
    "1. [Complete guide to transfer learning & fine-tuning in Keras (2020)](https://keras.io/guides/transfer_learning/#train-the-top-layer)\n",
    "2. [Keras Applications](https://keras.io/api/applications/)"
   ]
  },
  {
   "cell_type": "markdown",
   "id": "7AQOV7SdlEeB",
   "metadata": {
    "id": "7AQOV7SdlEeB"
   },
   "source": [
    "__Summary of the notebook:__\n",
    "\n",
    "In this notebook we:\n",
    "\n",
    "- Using the Keras trainable API, we load a model(ResNet50V2) pre-trained on ImageNet, we build a top layer on top of it and lastly we use it to classify our dataset\n",
    "- To do this we need to:\n",
    "  - First augment and pre-process the data\n",
    "  - Then we build a base model around the loaded model and train the top layer, meaning that we freeze the loaded layers from the imported model\n",
    "  - Then finally we unfreeze the base model and train the entire model end-to-end with a low learning rate."
   ]
  },
  {
   "cell_type": "markdown",
   "id": "bhYhGCWOj9Xf",
   "metadata": {
    "id": "bhYhGCWOj9Xf"
   },
   "source": [
    "# 1. Import the dataset"
   ]
  },
  {
   "cell_type": "code",
   "execution_count": null,
   "id": "8d4e0859",
   "metadata": {
    "id": "8d4e0859"
   },
   "outputs": [],
   "source": [
    "import tensorflow as tf\n",
    "from tensorflow import keras\n",
    "from tensorflow.keras import datasets\n",
    "from tensorflow.keras.preprocessing import image_dataset_from_directory\n",
    "from tensorflow.keras import Sequential, layers, initializers, regularizers, optimizers, metrics \n",
    "\n",
    "import os\n",
    "import shutil\n",
    "import random \n",
    "import zipfile\n",
    "\n",
    "import numpy as np\n",
    "import pandas as pd\n",
    "\n",
    "import seaborn as sns\n",
    "import matplotlib.pyplot as plt\n",
    "import matplotlib.image as mpimg\n",
    "from matplotlib.colors import ListedColormap\n",
    "\n",
    "from sklearn.model_selection import train_test_split\n",
    "from sklearn.metrics import confusion_matrix\n",
    "\n",
    "import gdown"
   ]
  },
  {
   "cell_type": "markdown",
   "id": "L9K9tIvwuEY1",
   "metadata": {
    "id": "L9K9tIvwuEY1"
   },
   "source": [
    "We upload the zip file with our Skin Cancer dataset."
   ]
  },
  {
   "cell_type": "code",
   "execution_count": null,
   "id": "_GcpLHLKXjr1",
   "metadata": {
    "colab": {
     "base_uri": "https://localhost:8080/",
     "height": 105
    },
    "id": "_GcpLHLKXjr1",
    "outputId": "b9b0da67-e2de-4f0d-de85-195aef99c46c"
   },
   "outputs": [
    {
     "name": "stderr",
     "output_type": "stream",
     "text": [
      "Downloading...\n",
      "From: https://drive.google.com/uc?id=1tQsRxytmTgUW3zV5VjYoOw467-23mZ1H\n",
      "To: /content/data.zip\n",
      "100%|██████████| 698M/698M [00:04<00:00, 141MB/s]\n"
     ]
    },
    {
     "data": {
      "application/vnd.google.colaboratory.intrinsic+json": {
       "type": "string"
      },
      "text/plain": [
       "'data.zip'"
      ]
     },
     "execution_count": 3,
     "metadata": {},
     "output_type": "execute_result"
    }
   ],
   "source": [
    "url = 'https://drive.google.com/uc?id=1tQsRxytmTgUW3zV5VjYoOw467-23mZ1H'\n",
    "output = 'data.zip'\n",
    "gdown.download(url, output, quiet=False)"
   ]
  },
  {
   "cell_type": "markdown",
   "id": "ogT-0V3Nw7xr",
   "metadata": {
    "id": "ogT-0V3Nw7xr"
   },
   "source": [
    "In this cell we extract the files from the data.zip file and loading into this workbook filesystem. "
   ]
  },
  {
   "cell_type": "code",
   "execution_count": null,
   "id": "445efffc",
   "metadata": {
    "id": "445efffc"
   },
   "outputs": [],
   "source": [
    "zip_ = zipfile.ZipFile('data.zip')\n",
    "zip_.extractall()\n",
    "zip_.close()\n",
    "path = \"\""
   ]
  },
  {
   "cell_type": "markdown",
   "id": "poMazksRxV6f",
   "metadata": {
    "id": "poMazksRxV6f"
   },
   "source": [
    "After extracting all of the files, we define the paths for our train, test and validation folders."
   ]
  },
  {
   "cell_type": "code",
   "execution_count": null,
   "id": "036d96be",
   "metadata": {
    "id": "036d96be"
   },
   "outputs": [],
   "source": [
    "training_folder, val_folder, testing_folder = \"/content/transformed_data/transformed_train/\", \\\n",
    "\"/content/transformed_data/transformed_val/\", \"/content/transformed_data/transformed_test/\""
   ]
  },
  {
   "cell_type": "markdown",
   "id": "Ou7nd_STxlux",
   "metadata": {
    "id": "Ou7nd_STxlux"
   },
   "source": [
    "For the sake of ensuring that the data isn't continuously duplicated, we created this boolean flag for the function created bellow. "
   ]
  },
  {
   "cell_type": "code",
   "execution_count": null,
   "id": "rWEBgCwZmzjy",
   "metadata": {
    "id": "rWEBgCwZmzjy"
   },
   "outputs": [],
   "source": [
    "#Meter em True só na primeira vez\n",
    "run = True"
   ]
  },
  {
   "cell_type": "markdown",
   "id": "D2srrq7Wy_mV",
   "metadata": {
    "id": "D2srrq7Wy_mV"
   },
   "source": [
    "The **function make__copies()**, receives a folders and copies each photo n times and then stores it in the same folder. We will use this function as way to balance the dataset."
   ]
  },
  {
   "cell_type": "markdown",
   "id": "1CrsJau5zlEC",
   "metadata": {
    "id": "1CrsJau5zlEC"
   },
   "source": [
    "We used the fuction **make_n_copies()**,to populate the target folders in all folders except **nv**, because it had significantly more records than the others."
   ]
  },
  {
   "cell_type": "code",
   "execution_count": null,
   "id": "UyjOVq6sPvZ-",
   "metadata": {
    "id": "UyjOVq6sPvZ-"
   },
   "outputs": [],
   "source": [
    "def make_n_copies(folder, n_copies):\n",
    "\n",
    "# Loop through each file in the images folder\n",
    "  for image in os.listdir(folder):\n",
    "    file_path = os.path.join(folder, image)\n",
    "    # Create n_copies of the file\n",
    "    for i in range(n_copies):\n",
    "      new_filename = f\"{image.split('.')[0]}_copy{i+1}.jpg\"\n",
    "      new_file_path = os.path.join(folder, new_filename)\n",
    "      shutil.copy(file_path, new_file_path)\n",
    "\n",
    "run = True\n",
    "if run:\n",
    "  make_n_copies(training_folder + 'akiec', 18)\n",
    "  make_n_copies(training_folder + 'bcc', 11)\n",
    "  make_n_copies(training_folder + 'bkl', 5)\n",
    "  make_n_copies(training_folder + 'df', 51)\n",
    "  make_n_copies(training_folder + 'mel', 5)\n",
    "  make_n_copies(training_folder + 'vasc', 42)     \n",
    "\n",
    "  run = False #to prevent the creation of copies multiple times"
   ]
  },
  {
   "cell_type": "markdown",
   "id": "PdcVb3Zq2Hl3",
   "metadata": {
    "id": "PdcVb3Zq2Hl3"
   },
   "source": [
    "Here we define the main parameters to import the images from the directory to a tf dataset."
   ]
  },
  {
   "cell_type": "code",
   "execution_count": null,
   "id": "6tSz8VZYDTqK",
   "metadata": {
    "id": "6tSz8VZYDTqK"
   },
   "outputs": [],
   "source": [
    "image_size=(128,128)\n",
    "crop_to_aspect_ratio=True\n",
    "color_mode='rgb'\n",
    "batch_size=64\n",
    "label_mode=\"categorical\"\n",
    "validation_split=0.2\n",
    "shuffle=True\n",
    "seed=0"
   ]
  },
  {
   "cell_type": "markdown",
   "id": "ce-erShJ1CNh",
   "metadata": {
    "id": "ce-erShJ1CNh"
   },
   "source": [
    "We defined the **image size** for our dataset to be **128x128 pixels**, because its a standard measure for images and so that images with diferent shapes dont conflict with our models. \n",
    "\n",
    "Our label mode is **categorical**, since our optimization problem is to predict which type of skin cancer is present in an image."
   ]
  },
  {
   "cell_type": "markdown",
   "id": "kjAp1nRa2Lg3",
   "metadata": {
    "id": "kjAp1nRa2Lg3"
   },
   "source": [
    "In this next cell, we generate our 3 tf datasets to train and test our model, with the parameters that we defined in the cell above."
   ]
  },
  {
   "cell_type": "code",
   "execution_count": null,
   "id": "4095fd3a",
   "metadata": {
    "colab": {
     "base_uri": "https://localhost:8080/"
    },
    "id": "4095fd3a",
    "outputId": "e7101079-db0d-4649-c0b9-76e9c6c7223c"
   },
   "outputs": [
    {
     "name": "stdout",
     "output_type": "stream",
     "text": [
      "Found 30185 files belonging to 7 classes.\n",
      "Found 1703 files belonging to 7 classes.\n",
      "Found 1503 files belonging to 7 classes.\n"
     ]
    }
   ],
   "source": [
    "# Generate an object of type tf.data.Dataset \n",
    "ds_train = image_dataset_from_directory(training_folder, \n",
    "                                                image_size=image_size,\n",
    "                                                crop_to_aspect_ratio=crop_to_aspect_ratio,\n",
    "                                                color_mode=color_mode,\n",
    "                                                batch_size=batch_size,\n",
    "                                                label_mode=label_mode, \n",
    "                                                shuffle=shuffle,\n",
    "                                                seed=seed)\n",
    "\n",
    "ds_val = image_dataset_from_directory(val_folder, \n",
    "                                       image_size=image_size,\n",
    "                                       crop_to_aspect_ratio=crop_to_aspect_ratio,\n",
    "                                       color_mode=color_mode,\n",
    "                                       batch_size=batch_size,\n",
    "                                       label_mode=label_mode,                                     \n",
    "                                       shuffle=shuffle,\n",
    "                                       seed=seed)\n",
    "\n",
    "ds_test = image_dataset_from_directory(testing_folder, \n",
    "                                       image_size=image_size,\n",
    "                                       crop_to_aspect_ratio=crop_to_aspect_ratio,\n",
    "                                       color_mode=color_mode,\n",
    "                                       batch_size=batch_size,\n",
    "                                       label_mode=label_mode,                                     \n",
    "                                       shuffle=shuffle,\n",
    "                                       seed=seed)"
   ]
  },
  {
   "cell_type": "markdown",
   "id": "af0ekYGE2hgB",
   "metadata": {
    "id": "af0ekYGE2hgB"
   },
   "source": [
    "After the creation of the ds_train/test/val datasets we can confirm that the function read all the files for each folder.\n"
   ]
  },
  {
   "cell_type": "markdown",
   "id": "3nrjjTEIlmVJ",
   "metadata": {
    "id": "3nrjjTEIlmVJ"
   },
   "source": [
    "# 2. Model Definition"
   ]
  },
  {
   "cell_type": "markdown",
   "id": "tj5Hw-A-9gGL",
   "metadata": {
    "id": "tj5Hw-A-9gGL"
   },
   "source": [
    "First of all, we need to define some things prior to starting the models. Below we iterate in our training, particularly to get the input shape automatically."
   ]
  },
  {
   "cell_type": "code",
   "execution_count": null,
   "id": "aqSti32zfYWW",
   "metadata": {
    "id": "aqSti32zfYWW"
   },
   "outputs": [],
   "source": [
    "iter_train = iter(ds_train)\n",
    "batch_x_train, batch_y_train = iter_train.next()"
   ]
  },
  {
   "cell_type": "code",
   "execution_count": null,
   "id": "dWj70MWYfYNu",
   "metadata": {
    "id": "dWj70MWYfYNu"
   },
   "outputs": [],
   "source": [
    "input_shape = tuple(batch_x_train.shape)"
   ]
  },
  {
   "cell_type": "markdown",
   "id": "hapztU8q9wdh",
   "metadata": {
    "id": "hapztU8q9wdh"
   },
   "source": [
    "The function below is based on the procedure of our deep learning classes. We input the model, learning rate and nr of epochs and it will give us a print of each epoch's measures. We added the precision and recall to the accuracy and AUC because we have an unbalanced set and even having oversampled the training set, we kept the other two sets unbalanced, because we thought it would simulate better real life. The function will also return the history callbacks of the model, so we can later use them to compare models. We also added the f1score to the history dataframe we are outputing, using the precision and recall, because it is a good measure of quality of a model with imbalanced data."
   ]
  },
  {
   "cell_type": "code",
   "execution_count": null,
   "id": "XYYzUgP2kOMX",
   "metadata": {
    "id": "XYYzUgP2kOMX"
   },
   "outputs": [],
   "source": [
    "#depois voltar a mudar o numero de epochs\n",
    "def compilation(cnn, learning_rate = 0.001, epochs = 2):\n",
    "  cnn.compile(loss=\"categorical_crossentropy\",\n",
    "              optimizer=optimizers.Adam(learning_rate=learning_rate),  \n",
    "              metrics=[metrics.CategoricalAccuracy(name='accuracy'),\n",
    "                       metrics.AUC(name='AUROC'),\n",
    "                       metrics.Precision(name='precision'),\n",
    "                       metrics.Recall(name='recall')])\n",
    "  \n",
    "  history = cnn.fit(ds_train, validation_data=ds_val, epochs=epochs, verbose=1)\n",
    "  # 3. \n",
    "  df_hist = pd.DataFrame.from_dict(history.history)\n",
    "  df_hist[\"Epoch\"] = np.arange(1, len(df_hist) + 1, 1)\n",
    "\n",
    "  #calculating the f1score for each epoch (train and validation)\n",
    "  df_hist['f1'] = 2*(df_hist['precision']*df_hist['recall'])/(df_hist['precision'] + df_hist['recall'])\n",
    "  df_hist['val_f1'] = 2*(df_hist['val_precision']*df_hist['val_recall'])/(df_hist['val_precision']+df_hist['val_recall'])\n",
    "  \n",
    "  return df_hist"
   ]
  },
  {
   "cell_type": "markdown",
   "id": "l12aaGMOAeiu",
   "metadata": {
    "id": "l12aaGMOAeiu"
   },
   "source": [
    "The function below, also based on the classes, to plot the progress of the model through the epochs. Because of the imbalance, we decided it would be more important to plot the f1_score, while still keeping an eye on the accuracy, so the rest of the measures won't be seen in this plot, but will always be visible inside the model's history. The loss function will also always be present.\n"
   ]
  },
  {
   "cell_type": "code",
   "execution_count": null,
   "id": "j-nZ4emi-r5i",
   "metadata": {
    "id": "j-nZ4emi-r5i"
   },
   "outputs": [],
   "source": [
    "def plot_hist(df_hist):\n",
    "  secondary_y = [\"f1\", \"val_f1\", \"accuracy\", \"val_accuracy\"] \n",
    "\n",
    "  ax = df_hist.plot(x=\"Epoch\", y=['loss', 'val_loss'] + secondary_y,\n",
    "                    secondary_y = secondary_y, \n",
    "                    kind=\"line\", figsize=(6, 3), grid=True, legend=True,\n",
    "                    ylabel=\"Categorical cross-entropy\", \n",
    "                    xlabel=\"Epoch\", title=\"Learning curves\", \n",
    "                    style=[\".--\", \".-\"]*3,\n",
    "                    color=['darkred', 'indianred', \"darkblue\", \"royalblue\", \"seagreen\", \"darkseagreen\"], \n",
    "                          alpha=0.75, fontsize=10)\n",
    "  ax.right_ax.set_ylabel(\"F1 Score and Accuracy\")\n",
    "  ax.right_ax.legend(loc=(1.15, 0.65), framealpha=1.0)\n",
    "  ax.right_ax.set_ylim(0.45, 1.05)\n",
    "  ax.legend(loc=(1.15, 0.40), framealpha=1.0)\n",
    "  plt.show()"
   ]
  },
  {
   "cell_type": "markdown",
   "id": "G0HrV1bVTjM1",
   "metadata": {
    "id": "G0HrV1bVTjM1"
   },
   "source": [
    "# 3. Transfer learning"
   ]
  },
  {
   "cell_type": "markdown",
   "id": "hUtdFp4CmXGO",
   "metadata": {
    "id": "hUtdFp4CmXGO"
   },
   "source": [
    "First of all we need to import the model we are going to use for the transfer learning.\n",
    "\n",
    "- We import it pre-trained on the ImageNet dataset\n",
    "- Include_top is false because we're going to build the top layer on our own model"
   ]
  },
  {
   "cell_type": "code",
   "execution_count": null,
   "id": "de6U6KtJUOVh",
   "metadata": {
    "colab": {
     "base_uri": "https://localhost:8080/"
    },
    "id": "de6U6KtJUOVh",
    "outputId": "989baac8-2605-413f-e210-51f223aeec95"
   },
   "outputs": [
    {
     "name": "stdout",
     "output_type": "stream",
     "text": [
      "Downloading data from https://storage.googleapis.com/tensorflow/keras-applications/resnet/resnet50v2_weights_tf_dim_ordering_tf_kernels_notop.h5\n",
      "94668760/94668760 [==============================] - 1s 0us/step\n"
     ]
    }
   ],
   "source": [
    "base_model = keras.applications.ResNet50V2(\n",
    "    weights=\"imagenet\",\n",
    "    input_shape= (128,128,3),\n",
    "    include_top=False\n",
    ")"
   ]
  },
  {
   "cell_type": "markdown",
   "id": "zByvZVc0nBCS",
   "metadata": {
    "id": "zByvZVc0nBCS"
   },
   "source": [
    "Base_model.trainable is False, meaning that we are freezing the bottom layer, so we firstly train only the top layers that we add to our model"
   ]
  },
  {
   "cell_type": "code",
   "execution_count": null,
   "id": "kzdUI6N2XX3E",
   "metadata": {
    "id": "kzdUI6N2XX3E"
   },
   "outputs": [],
   "source": [
    "base_model.trainable = False"
   ]
  },
  {
   "cell_type": "markdown",
   "id": "DqprBFGHnVtt",
   "metadata": {
    "id": "DqprBFGHnVtt"
   },
   "source": [
    "## 3.1 Data Augmentation and Pre-process"
   ]
  },
  {
   "cell_type": "markdown",
   "id": "VRYWfgb7ncnD",
   "metadata": {
    "id": "VRYWfgb7ncnD"
   },
   "source": [
    "In this section we pre-process and do the data augmentation that we did on our best model. To do this we create a layer to do both the augmentation and the pre-process on our model"
   ]
  },
  {
   "cell_type": "code",
   "execution_count": null,
   "id": "fyK0h0Tqc8ab",
   "metadata": {
    "id": "fyK0h0Tqc8ab"
   },
   "outputs": [],
   "source": [
    "augmentation = Sequential([layers.RandomFlip(), \n",
    "                           layers.RandomRotation(factor=0.3), \n",
    "                           layers.RandomZoom(height_factor=0.1, width_factor=0.1),\n",
    "                           layers.RandomTranslation(height_factor=(-0.1, 0.1), width_factor=(-0.1, 0.1))\n",
    "                          ])"
   ]
  },
  {
   "cell_type": "code",
   "execution_count": null,
   "id": "eaFM7x2udLQL",
   "metadata": {
    "id": "eaFM7x2udLQL"
   },
   "outputs": [],
   "source": [
    "preprocess = Sequential([augmentation,layers.BatchNormalization()])"
   ]
  },
  {
   "cell_type": "markdown",
   "id": "iU9_MI31nmok",
   "metadata": {
    "id": "iU9_MI31nmok"
   },
   "source": [
    "## 3.2 Base Model"
   ]
  },
  {
   "cell_type": "markdown",
   "id": "Kz0stlvNpeiz",
   "metadata": {
    "id": "Kz0stlvNpeiz"
   },
   "source": [
    "Here we build our model:\n",
    "\n",
    "- First we define the input-shape\n",
    "- Then we add the data augmentation and pre-process layer\n",
    "- We then add the imported model as a layer\n",
    "- And lastly we build the top-layer of our model"
   ]
  },
  {
   "cell_type": "code",
   "execution_count": null,
   "id": "x4E9AGYCXXtt",
   "metadata": {
    "colab": {
     "base_uri": "https://localhost:8080/"
    },
    "id": "x4E9AGYCXXtt",
    "outputId": "842edafd-748b-42c5-cc8c-9569c39eaafe"
   },
   "outputs": [
    {
     "name": "stdout",
     "output_type": "stream",
     "text": [
      "Model: \"model_1\"\n",
      "_________________________________________________________________\n",
      " Layer (type)                Output Shape              Param #   \n",
      "=================================================================\n",
      " input_3 (InputLayer)        [(None, 128, 128, 3)]     0         \n",
      "                                                                 \n",
      " sequential_1 (Sequential)   (None, 128, 128, 3)       12        \n",
      "                                                                 \n",
      " resnet50v2 (Functional)     (None, 4, 4, 2048)        23564800  \n",
      "                                                                 \n",
      " batch_normalization_2 (Batc  (None, 4, 4, 2048)       8192      \n",
      " hNormalization)                                                 \n",
      "                                                                 \n",
      " activation_1 (Activation)   (None, 4, 4, 2048)        0         \n",
      "                                                                 \n",
      " global_max_pooling2d_1 (Glo  (None, 2048)             0         \n",
      " balMaxPooling2D)                                                \n",
      "                                                                 \n",
      " dense_1 (Dense)             (None, 7)                 14343     \n",
      "                                                                 \n",
      "=================================================================\n",
      "Total params: 23,587,347\n",
      "Trainable params: 18,445\n",
      "Non-trainable params: 23,568,902\n",
      "_________________________________________________________________\n"
     ]
    }
   ],
   "source": [
    "inputs = keras.Input(shape=(128, 128, 3))\n",
    "\n",
    "x = preprocess(inputs)\n",
    "x = base_model(x, training=False)\n",
    "x = keras.layers.BatchNormalization()(x)\n",
    "x = keras.layers.Activation(\"relu\")(x)\n",
    "x = keras.layers.GlobalMaxPooling2D()(x)\n",
    "\n",
    "outputs = keras.layers.Dense(7,activation=\"softmax\", \n",
    "                                   kernel_initializer=initializers.GlorotNormal(seed=seed))(x)\n",
    "modelT = keras.Model(inputs, outputs)\n",
    "\n",
    "modelT.summary()"
   ]
  },
  {
   "cell_type": "markdown",
   "id": "XXA6M2PfoQla",
   "metadata": {
    "id": "XXA6M2PfoQla"
   },
   "source": [
    "## 3.3 Top layer Training"
   ]
  },
  {
   "cell_type": "markdown",
   "id": "_0SN7G7-qGG6",
   "metadata": {
    "id": "_0SN7G7-qGG6"
   },
   "source": [
    "We use our trusted compilation function to train our newly built model, we use 15 epochs to match our best model that we created before"
   ]
  },
  {
   "cell_type": "code",
   "execution_count": null,
   "id": "W02Jw5HJUNRU",
   "metadata": {
    "colab": {
     "base_uri": "https://localhost:8080/"
    },
    "id": "W02Jw5HJUNRU",
    "outputId": "1db8e347-429f-495c-c6fa-cdc59a08dfef"
   },
   "outputs": [
    {
     "name": "stdout",
     "output_type": "stream",
     "text": [
      "Epoch 1/15\n",
      "472/472 [==============================] - 98s 193ms/step - loss: 2.7017 - accuracy: 0.3142 - AUROC: 0.6885 - precision: 0.3354 - recall: 0.2541 - val_loss: 2.1168 - val_accuracy: 0.4345 - val_AUROC: 0.7709 - val_precision: 0.4746 - val_recall: 0.3670\n",
      "Epoch 2/15\n",
      "472/472 [==============================] - 88s 184ms/step - loss: 1.9889 - accuracy: 0.4089 - AUROC: 0.7737 - precision: 0.4560 - recall: 0.3411 - val_loss: 1.9376 - val_accuracy: 0.4375 - val_AUROC: 0.7916 - val_precision: 0.4835 - val_recall: 0.3705\n",
      "Epoch 3/15\n",
      "472/472 [==============================] - 88s 184ms/step - loss: 1.7193 - accuracy: 0.4545 - AUROC: 0.8096 - precision: 0.5082 - recall: 0.3717 - val_loss: 1.3448 - val_accuracy: 0.5931 - val_AUROC: 0.8793 - val_precision: 0.6421 - val_recall: 0.5267\n",
      "Epoch 4/15\n",
      "472/472 [==============================] - 88s 184ms/step - loss: 1.5537 - accuracy: 0.4931 - AUROC: 0.8333 - precision: 0.5562 - recall: 0.4034 - val_loss: 1.6068 - val_accuracy: 0.5085 - val_AUROC: 0.8354 - val_precision: 0.5554 - val_recall: 0.4328\n",
      "Epoch 5/15\n",
      "472/472 [==============================] - 87s 183ms/step - loss: 1.4431 - accuracy: 0.5175 - AUROC: 0.8491 - precision: 0.5877 - recall: 0.4262 - val_loss: 1.4042 - val_accuracy: 0.5484 - val_AUROC: 0.8626 - val_precision: 0.6106 - val_recall: 0.4715\n",
      "Epoch 6/15\n",
      "472/472 [==============================] - 88s 183ms/step - loss: 1.3651 - accuracy: 0.5362 - AUROC: 0.8600 - precision: 0.6151 - recall: 0.4420 - val_loss: 1.1372 - val_accuracy: 0.6436 - val_AUROC: 0.9040 - val_precision: 0.7058 - val_recall: 0.5649\n",
      "Epoch 7/15\n",
      "472/472 [==============================] - 88s 184ms/step - loss: 1.3045 - accuracy: 0.5474 - AUROC: 0.8691 - precision: 0.6276 - recall: 0.4506 - val_loss: 1.3068 - val_accuracy: 0.5567 - val_AUROC: 0.8765 - val_precision: 0.6156 - val_recall: 0.4815\n",
      "Epoch 8/15\n",
      "472/472 [==============================] - 88s 184ms/step - loss: 1.2634 - accuracy: 0.5567 - AUROC: 0.8754 - precision: 0.6374 - recall: 0.4590 - val_loss: 1.3378 - val_accuracy: 0.5537 - val_AUROC: 0.8700 - val_precision: 0.6229 - val_recall: 0.4762\n",
      "Epoch 9/15\n",
      "472/472 [==============================] - 87s 182ms/step - loss: 1.2251 - accuracy: 0.5674 - AUROC: 0.8809 - precision: 0.6562 - recall: 0.4654 - val_loss: 1.5281 - val_accuracy: 0.4985 - val_AUROC: 0.8419 - val_precision: 0.5605 - val_recall: 0.4269\n",
      "Epoch 10/15\n",
      "472/472 [==============================] - 88s 184ms/step - loss: 1.1883 - accuracy: 0.5773 - AUROC: 0.8866 - precision: 0.6653 - recall: 0.4716 - val_loss: 1.2938 - val_accuracy: 0.5661 - val_AUROC: 0.8739 - val_precision: 0.6464 - val_recall: 0.4809\n",
      "Epoch 11/15\n",
      "472/472 [==============================] - 88s 183ms/step - loss: 1.1618 - accuracy: 0.5877 - AUROC: 0.8911 - precision: 0.6742 - recall: 0.4812 - val_loss: 1.2574 - val_accuracy: 0.5690 - val_AUROC: 0.8812 - val_precision: 0.6566 - val_recall: 0.4850\n",
      "Epoch 12/15\n",
      "472/472 [==============================] - 89s 186ms/step - loss: 1.1465 - accuracy: 0.5877 - AUROC: 0.8933 - precision: 0.6790 - recall: 0.4823 - val_loss: 1.1353 - val_accuracy: 0.5960 - val_AUROC: 0.8990 - val_precision: 0.6911 - val_recall: 0.5203\n",
      "Epoch 13/15\n",
      "472/472 [==============================] - 87s 182ms/step - loss: 1.1256 - accuracy: 0.5973 - AUROC: 0.8968 - precision: 0.6877 - recall: 0.4920 - val_loss: 1.1499 - val_accuracy: 0.5890 - val_AUROC: 0.8967 - val_precision: 0.6711 - val_recall: 0.5056\n",
      "Epoch 14/15\n",
      "472/472 [==============================] - 87s 183ms/step - loss: 1.1069 - accuracy: 0.6033 - AUROC: 0.8997 - precision: 0.6977 - recall: 0.4953 - val_loss: 1.1072 - val_accuracy: 0.6036 - val_AUROC: 0.9035 - val_precision: 0.6967 - val_recall: 0.5220\n",
      "Epoch 15/15\n",
      "472/472 [==============================] - 87s 183ms/step - loss: 1.0857 - accuracy: 0.6058 - AUROC: 0.9031 - precision: 0.6989 - recall: 0.4959 - val_loss: 0.9885 - val_accuracy: 0.6459 - val_AUROC: 0.9208 - val_precision: 0.7168 - val_recall: 0.5543\n"
     ]
    }
   ],
   "source": [
    "frozen_transfer_model = compilation(modelT, epochs=15)"
   ]
  },
  {
   "cell_type": "code",
   "execution_count": null,
   "id": "XH1eI8LhVdnU",
   "metadata": {
    "colab": {
     "base_uri": "https://localhost:8080/",
     "height": 520
    },
    "id": "XH1eI8LhVdnU",
    "outputId": "bdeb5624-308b-4f0f-b80d-bcdb116c782c"
   },
   "outputs": [
    {
     "data": {
      "text/html": [
       "\n",
       "  <div id=\"df-75a3b40f-3c79-4bf5-8015-b48ca96bebb2\">\n",
       "    <div class=\"colab-df-container\">\n",
       "      <div>\n",
       "<style scoped>\n",
       "    .dataframe tbody tr th:only-of-type {\n",
       "        vertical-align: middle;\n",
       "    }\n",
       "\n",
       "    .dataframe tbody tr th {\n",
       "        vertical-align: top;\n",
       "    }\n",
       "\n",
       "    .dataframe thead th {\n",
       "        text-align: right;\n",
       "    }\n",
       "</style>\n",
       "<table border=\"1\" class=\"dataframe\">\n",
       "  <thead>\n",
       "    <tr style=\"text-align: right;\">\n",
       "      <th></th>\n",
       "      <th>loss</th>\n",
       "      <th>accuracy</th>\n",
       "      <th>AUROC</th>\n",
       "      <th>precision</th>\n",
       "      <th>recall</th>\n",
       "      <th>val_loss</th>\n",
       "      <th>val_accuracy</th>\n",
       "      <th>val_AUROC</th>\n",
       "      <th>val_precision</th>\n",
       "      <th>val_recall</th>\n",
       "      <th>Epoch</th>\n",
       "      <th>f1</th>\n",
       "      <th>val_f1</th>\n",
       "    </tr>\n",
       "  </thead>\n",
       "  <tbody>\n",
       "    <tr>\n",
       "      <th>0</th>\n",
       "      <td>2.701685</td>\n",
       "      <td>0.314196</td>\n",
       "      <td>0.688492</td>\n",
       "      <td>0.335374</td>\n",
       "      <td>0.254133</td>\n",
       "      <td>2.116754</td>\n",
       "      <td>0.434527</td>\n",
       "      <td>0.770861</td>\n",
       "      <td>0.474563</td>\n",
       "      <td>0.366999</td>\n",
       "      <td>1</td>\n",
       "      <td>0.289155</td>\n",
       "      <td>0.413907</td>\n",
       "    </tr>\n",
       "    <tr>\n",
       "      <th>1</th>\n",
       "      <td>1.988855</td>\n",
       "      <td>0.408912</td>\n",
       "      <td>0.773731</td>\n",
       "      <td>0.455955</td>\n",
       "      <td>0.341063</td>\n",
       "      <td>1.937602</td>\n",
       "      <td>0.437463</td>\n",
       "      <td>0.791639</td>\n",
       "      <td>0.483525</td>\n",
       "      <td>0.370523</td>\n",
       "      <td>2</td>\n",
       "      <td>0.390228</td>\n",
       "      <td>0.419548</td>\n",
       "    </tr>\n",
       "    <tr>\n",
       "      <th>2</th>\n",
       "      <td>1.719255</td>\n",
       "      <td>0.454464</td>\n",
       "      <td>0.809571</td>\n",
       "      <td>0.508152</td>\n",
       "      <td>0.371708</td>\n",
       "      <td>1.344827</td>\n",
       "      <td>0.593071</td>\n",
       "      <td>0.879337</td>\n",
       "      <td>0.642090</td>\n",
       "      <td>0.526718</td>\n",
       "      <td>3</td>\n",
       "      <td>0.429350</td>\n",
       "      <td>0.578710</td>\n",
       "    </tr>\n",
       "    <tr>\n",
       "      <th>3</th>\n",
       "      <td>1.553733</td>\n",
       "      <td>0.493126</td>\n",
       "      <td>0.833285</td>\n",
       "      <td>0.556205</td>\n",
       "      <td>0.403412</td>\n",
       "      <td>1.606802</td>\n",
       "      <td>0.508514</td>\n",
       "      <td>0.835407</td>\n",
       "      <td>0.555388</td>\n",
       "      <td>0.432766</td>\n",
       "      <td>4</td>\n",
       "      <td>0.467645</td>\n",
       "      <td>0.486469</td>\n",
       "    </tr>\n",
       "    <tr>\n",
       "      <th>4</th>\n",
       "      <td>1.443099</td>\n",
       "      <td>0.517476</td>\n",
       "      <td>0.849064</td>\n",
       "      <td>0.587676</td>\n",
       "      <td>0.426238</td>\n",
       "      <td>1.404231</td>\n",
       "      <td>0.548444</td>\n",
       "      <td>0.862588</td>\n",
       "      <td>0.610646</td>\n",
       "      <td>0.471521</td>\n",
       "      <td>5</td>\n",
       "      <td>0.494105</td>\n",
       "      <td>0.532140</td>\n",
       "    </tr>\n",
       "    <tr>\n",
       "      <th>5</th>\n",
       "      <td>1.365104</td>\n",
       "      <td>0.536160</td>\n",
       "      <td>0.859964</td>\n",
       "      <td>0.615112</td>\n",
       "      <td>0.442041</td>\n",
       "      <td>1.137228</td>\n",
       "      <td>0.643570</td>\n",
       "      <td>0.903990</td>\n",
       "      <td>0.705796</td>\n",
       "      <td>0.564885</td>\n",
       "      <td>6</td>\n",
       "      <td>0.514409</td>\n",
       "      <td>0.627528</td>\n",
       "    </tr>\n",
       "    <tr>\n",
       "      <th>6</th>\n",
       "      <td>1.304476</td>\n",
       "      <td>0.547424</td>\n",
       "      <td>0.869120</td>\n",
       "      <td>0.627601</td>\n",
       "      <td>0.450621</td>\n",
       "      <td>1.306842</td>\n",
       "      <td>0.556665</td>\n",
       "      <td>0.876490</td>\n",
       "      <td>0.615616</td>\n",
       "      <td>0.481503</td>\n",
       "      <td>7</td>\n",
       "      <td>0.524586</td>\n",
       "      <td>0.540362</td>\n",
       "    </tr>\n",
       "    <tr>\n",
       "      <th>7</th>\n",
       "      <td>1.263436</td>\n",
       "      <td>0.556700</td>\n",
       "      <td>0.875418</td>\n",
       "      <td>0.637434</td>\n",
       "      <td>0.458970</td>\n",
       "      <td>1.337792</td>\n",
       "      <td>0.553729</td>\n",
       "      <td>0.869966</td>\n",
       "      <td>0.622888</td>\n",
       "      <td>0.476218</td>\n",
       "      <td>8</td>\n",
       "      <td>0.533677</td>\n",
       "      <td>0.539767</td>\n",
       "    </tr>\n",
       "    <tr>\n",
       "      <th>8</th>\n",
       "      <td>1.225084</td>\n",
       "      <td>0.567434</td>\n",
       "      <td>0.880910</td>\n",
       "      <td>0.656157</td>\n",
       "      <td>0.465364</td>\n",
       "      <td>1.528129</td>\n",
       "      <td>0.498532</td>\n",
       "      <td>0.841917</td>\n",
       "      <td>0.560524</td>\n",
       "      <td>0.426894</td>\n",
       "      <td>9</td>\n",
       "      <td>0.544531</td>\n",
       "      <td>0.484667</td>\n",
       "    </tr>\n",
       "    <tr>\n",
       "      <th>9</th>\n",
       "      <td>1.188289</td>\n",
       "      <td>0.577273</td>\n",
       "      <td>0.886610</td>\n",
       "      <td>0.665311</td>\n",
       "      <td>0.471592</td>\n",
       "      <td>1.293776</td>\n",
       "      <td>0.566060</td>\n",
       "      <td>0.873876</td>\n",
       "      <td>0.646409</td>\n",
       "      <td>0.480916</td>\n",
       "      <td>10</td>\n",
       "      <td>0.551947</td>\n",
       "      <td>0.551515</td>\n",
       "    </tr>\n",
       "    <tr>\n",
       "      <th>10</th>\n",
       "      <td>1.161813</td>\n",
       "      <td>0.587742</td>\n",
       "      <td>0.891090</td>\n",
       "      <td>0.674248</td>\n",
       "      <td>0.481232</td>\n",
       "      <td>1.257417</td>\n",
       "      <td>0.568996</td>\n",
       "      <td>0.881230</td>\n",
       "      <td>0.656598</td>\n",
       "      <td>0.485026</td>\n",
       "      <td>11</td>\n",
       "      <td>0.561619</td>\n",
       "      <td>0.557920</td>\n",
       "    </tr>\n",
       "    <tr>\n",
       "      <th>11</th>\n",
       "      <td>1.146539</td>\n",
       "      <td>0.587742</td>\n",
       "      <td>0.893288</td>\n",
       "      <td>0.678996</td>\n",
       "      <td>0.482259</td>\n",
       "      <td>1.135294</td>\n",
       "      <td>0.596007</td>\n",
       "      <td>0.899021</td>\n",
       "      <td>0.691108</td>\n",
       "      <td>0.520258</td>\n",
       "      <td>12</td>\n",
       "      <td>0.563962</td>\n",
       "      <td>0.593635</td>\n",
       "    </tr>\n",
       "    <tr>\n",
       "      <th>12</th>\n",
       "      <td>1.125607</td>\n",
       "      <td>0.597350</td>\n",
       "      <td>0.896772</td>\n",
       "      <td>0.687720</td>\n",
       "      <td>0.492032</td>\n",
       "      <td>1.149850</td>\n",
       "      <td>0.588961</td>\n",
       "      <td>0.896748</td>\n",
       "      <td>0.671083</td>\n",
       "      <td>0.505578</td>\n",
       "      <td>13</td>\n",
       "      <td>0.573647</td>\n",
       "      <td>0.576691</td>\n",
       "    </tr>\n",
       "    <tr>\n",
       "      <th>13</th>\n",
       "      <td>1.106907</td>\n",
       "      <td>0.603280</td>\n",
       "      <td>0.899720</td>\n",
       "      <td>0.697685</td>\n",
       "      <td>0.495279</td>\n",
       "      <td>1.107192</td>\n",
       "      <td>0.603641</td>\n",
       "      <td>0.903501</td>\n",
       "      <td>0.696708</td>\n",
       "      <td>0.522020</td>\n",
       "      <td>14</td>\n",
       "      <td>0.579311</td>\n",
       "      <td>0.596845</td>\n",
       "    </tr>\n",
       "    <tr>\n",
       "      <th>14</th>\n",
       "      <td>1.085709</td>\n",
       "      <td>0.605764</td>\n",
       "      <td>0.903131</td>\n",
       "      <td>0.698865</td>\n",
       "      <td>0.495909</td>\n",
       "      <td>0.988461</td>\n",
       "      <td>0.645919</td>\n",
       "      <td>0.920797</td>\n",
       "      <td>0.716781</td>\n",
       "      <td>0.554316</td>\n",
       "      <td>15</td>\n",
       "      <td>0.580149</td>\n",
       "      <td>0.625166</td>\n",
       "    </tr>\n",
       "  </tbody>\n",
       "</table>\n",
       "</div>\n",
       "      <button class=\"colab-df-convert\" onclick=\"convertToInteractive('df-75a3b40f-3c79-4bf5-8015-b48ca96bebb2')\"\n",
       "              title=\"Convert this dataframe to an interactive table.\"\n",
       "              style=\"display:none;\">\n",
       "        \n",
       "  <svg xmlns=\"http://www.w3.org/2000/svg\" height=\"24px\"viewBox=\"0 0 24 24\"\n",
       "       width=\"24px\">\n",
       "    <path d=\"M0 0h24v24H0V0z\" fill=\"none\"/>\n",
       "    <path d=\"M18.56 5.44l.94 2.06.94-2.06 2.06-.94-2.06-.94-.94-2.06-.94 2.06-2.06.94zm-11 1L8.5 8.5l.94-2.06 2.06-.94-2.06-.94L8.5 2.5l-.94 2.06-2.06.94zm10 10l.94 2.06.94-2.06 2.06-.94-2.06-.94-.94-2.06-.94 2.06-2.06.94z\"/><path d=\"M17.41 7.96l-1.37-1.37c-.4-.4-.92-.59-1.43-.59-.52 0-1.04.2-1.43.59L10.3 9.45l-7.72 7.72c-.78.78-.78 2.05 0 2.83L4 21.41c.39.39.9.59 1.41.59.51 0 1.02-.2 1.41-.59l7.78-7.78 2.81-2.81c.8-.78.8-2.07 0-2.86zM5.41 20L4 18.59l7.72-7.72 1.47 1.35L5.41 20z\"/>\n",
       "  </svg>\n",
       "      </button>\n",
       "      \n",
       "  <style>\n",
       "    .colab-df-container {\n",
       "      display:flex;\n",
       "      flex-wrap:wrap;\n",
       "      gap: 12px;\n",
       "    }\n",
       "\n",
       "    .colab-df-convert {\n",
       "      background-color: #E8F0FE;\n",
       "      border: none;\n",
       "      border-radius: 50%;\n",
       "      cursor: pointer;\n",
       "      display: none;\n",
       "      fill: #1967D2;\n",
       "      height: 32px;\n",
       "      padding: 0 0 0 0;\n",
       "      width: 32px;\n",
       "    }\n",
       "\n",
       "    .colab-df-convert:hover {\n",
       "      background-color: #E2EBFA;\n",
       "      box-shadow: 0px 1px 2px rgba(60, 64, 67, 0.3), 0px 1px 3px 1px rgba(60, 64, 67, 0.15);\n",
       "      fill: #174EA6;\n",
       "    }\n",
       "\n",
       "    [theme=dark] .colab-df-convert {\n",
       "      background-color: #3B4455;\n",
       "      fill: #D2E3FC;\n",
       "    }\n",
       "\n",
       "    [theme=dark] .colab-df-convert:hover {\n",
       "      background-color: #434B5C;\n",
       "      box-shadow: 0px 1px 3px 1px rgba(0, 0, 0, 0.15);\n",
       "      filter: drop-shadow(0px 1px 2px rgba(0, 0, 0, 0.3));\n",
       "      fill: #FFFFFF;\n",
       "    }\n",
       "  </style>\n",
       "\n",
       "      <script>\n",
       "        const buttonEl =\n",
       "          document.querySelector('#df-75a3b40f-3c79-4bf5-8015-b48ca96bebb2 button.colab-df-convert');\n",
       "        buttonEl.style.display =\n",
       "          google.colab.kernel.accessAllowed ? 'block' : 'none';\n",
       "\n",
       "        async function convertToInteractive(key) {\n",
       "          const element = document.querySelector('#df-75a3b40f-3c79-4bf5-8015-b48ca96bebb2');\n",
       "          const dataTable =\n",
       "            await google.colab.kernel.invokeFunction('convertToInteractive',\n",
       "                                                     [key], {});\n",
       "          if (!dataTable) return;\n",
       "\n",
       "          const docLinkHtml = 'Like what you see? Visit the ' +\n",
       "            '<a target=\"_blank\" href=https://colab.research.google.com/notebooks/data_table.ipynb>data table notebook</a>'\n",
       "            + ' to learn more about interactive tables.';\n",
       "          element.innerHTML = '';\n",
       "          dataTable['output_type'] = 'display_data';\n",
       "          await google.colab.output.renderOutput(dataTable, element);\n",
       "          const docLink = document.createElement('div');\n",
       "          docLink.innerHTML = docLinkHtml;\n",
       "          element.appendChild(docLink);\n",
       "        }\n",
       "      </script>\n",
       "    </div>\n",
       "  </div>\n",
       "  "
      ],
      "text/plain": [
       "        loss  accuracy     AUROC  precision    recall  val_loss  val_accuracy  \\\n",
       "0   2.701685  0.314196  0.688492   0.335374  0.254133  2.116754      0.434527   \n",
       "1   1.988855  0.408912  0.773731   0.455955  0.341063  1.937602      0.437463   \n",
       "2   1.719255  0.454464  0.809571   0.508152  0.371708  1.344827      0.593071   \n",
       "3   1.553733  0.493126  0.833285   0.556205  0.403412  1.606802      0.508514   \n",
       "4   1.443099  0.517476  0.849064   0.587676  0.426238  1.404231      0.548444   \n",
       "5   1.365104  0.536160  0.859964   0.615112  0.442041  1.137228      0.643570   \n",
       "6   1.304476  0.547424  0.869120   0.627601  0.450621  1.306842      0.556665   \n",
       "7   1.263436  0.556700  0.875418   0.637434  0.458970  1.337792      0.553729   \n",
       "8   1.225084  0.567434  0.880910   0.656157  0.465364  1.528129      0.498532   \n",
       "9   1.188289  0.577273  0.886610   0.665311  0.471592  1.293776      0.566060   \n",
       "10  1.161813  0.587742  0.891090   0.674248  0.481232  1.257417      0.568996   \n",
       "11  1.146539  0.587742  0.893288   0.678996  0.482259  1.135294      0.596007   \n",
       "12  1.125607  0.597350  0.896772   0.687720  0.492032  1.149850      0.588961   \n",
       "13  1.106907  0.603280  0.899720   0.697685  0.495279  1.107192      0.603641   \n",
       "14  1.085709  0.605764  0.903131   0.698865  0.495909  0.988461      0.645919   \n",
       "\n",
       "    val_AUROC  val_precision  val_recall  Epoch        f1    val_f1  \n",
       "0    0.770861       0.474563    0.366999      1  0.289155  0.413907  \n",
       "1    0.791639       0.483525    0.370523      2  0.390228  0.419548  \n",
       "2    0.879337       0.642090    0.526718      3  0.429350  0.578710  \n",
       "3    0.835407       0.555388    0.432766      4  0.467645  0.486469  \n",
       "4    0.862588       0.610646    0.471521      5  0.494105  0.532140  \n",
       "5    0.903990       0.705796    0.564885      6  0.514409  0.627528  \n",
       "6    0.876490       0.615616    0.481503      7  0.524586  0.540362  \n",
       "7    0.869966       0.622888    0.476218      8  0.533677  0.539767  \n",
       "8    0.841917       0.560524    0.426894      9  0.544531  0.484667  \n",
       "9    0.873876       0.646409    0.480916     10  0.551947  0.551515  \n",
       "10   0.881230       0.656598    0.485026     11  0.561619  0.557920  \n",
       "11   0.899021       0.691108    0.520258     12  0.563962  0.593635  \n",
       "12   0.896748       0.671083    0.505578     13  0.573647  0.576691  \n",
       "13   0.903501       0.696708    0.522020     14  0.579311  0.596845  \n",
       "14   0.920797       0.716781    0.554316     15  0.580149  0.625166  "
      ]
     },
     "execution_count": 94,
     "metadata": {},
     "output_type": "execute_result"
    }
   ],
   "source": [
    "frozen_transfer_model"
   ]
  },
  {
   "cell_type": "code",
   "execution_count": null,
   "id": "Fl99gW6BVnPj",
   "metadata": {
    "colab": {
     "base_uri": "https://localhost:8080/",
     "height": 333
    },
    "id": "Fl99gW6BVnPj",
    "outputId": "29836e9d-5652-4213-bac8-ecb15d608a99"
   },
   "outputs": [
    {
     "data": {
      "image/png": "[encoded data removed]",
      "text/plain": [
       "<Figure size 600x300 with 2 Axes>"
      ]
     },
     "metadata": {},
     "output_type": "display_data"
    }
   ],
   "source": [
    "plot_hist(frozen_transfer_model)"
   ]
  },
  {
   "cell_type": "markdown",
   "id": "kGKVjv0mremk",
   "metadata": {
    "id": "kGKVjv0mremk"
   },
   "source": [
    "We can observe the model is underfiting, but here we only trained the top layer so we don't need to read to much into these results"
   ]
  },
  {
   "cell_type": "markdown",
   "id": "_bA_C5AIoWb4",
   "metadata": {
    "id": "_bA_C5AIoWb4"
   },
   "source": [
    "## 3.3 Fine-Tuning"
   ]
  },
  {
   "cell_type": "markdown",
   "id": "8_n1eDM_rpdS",
   "metadata": {
    "id": "8_n1eDM_rpdS"
   },
   "source": [
    "In this section we are going to train the whole model, unfreezing the layers from the imported model"
   ]
  },
  {
   "cell_type": "code",
   "execution_count": null,
   "id": "el6es7DhYdgX",
   "metadata": {
    "colab": {
     "base_uri": "https://localhost:8080/"
    },
    "id": "el6es7DhYdgX",
    "outputId": "91625452-7d3b-4efd-effc-98cbb4b585d4"
   },
   "outputs": [
    {
     "name": "stdout",
     "output_type": "stream",
     "text": [
      "Model: \"model_1\"\n",
      "_________________________________________________________________\n",
      " Layer (type)                Output Shape              Param #   \n",
      "=================================================================\n",
      " input_3 (InputLayer)        [(None, 128, 128, 3)]     0         \n",
      "                                                                 \n",
      " sequential_1 (Sequential)   (None, 128, 128, 3)       12        \n",
      "                                                                 \n",
      " resnet50v2 (Functional)     (None, 4, 4, 2048)        23564800  \n",
      "                                                                 \n",
      " batch_normalization_2 (Batc  (None, 4, 4, 2048)       8192      \n",
      " hNormalization)                                                 \n",
      "                                                                 \n",
      " activation_1 (Activation)   (None, 4, 4, 2048)        0         \n",
      "                                                                 \n",
      " global_max_pooling2d_1 (Glo  (None, 2048)             0         \n",
      " balMaxPooling2D)                                                \n",
      "                                                                 \n",
      " dense_1 (Dense)             (None, 7)                 14343     \n",
      "                                                                 \n",
      "=================================================================\n",
      "Total params: 23,587,347\n",
      "Trainable params: 23,537,805\n",
      "Non-trainable params: 49,542\n",
      "_________________________________________________________________\n"
     ]
    }
   ],
   "source": [
    "base_model.trainable = True\n",
    "modelT.summary()"
   ]
  },
  {
   "cell_type": "markdown",
   "id": "u16rUrTcrzHq",
   "metadata": {
    "id": "u16rUrTcrzHq"
   },
   "source": [
    "As we can see above we have all the 23.5 million params able to train"
   ]
  },
  {
   "cell_type": "markdown",
   "id": "NgXd7w1fr5hW",
   "metadata": {
    "id": "NgXd7w1fr5hW"
   },
   "source": [
    "Below we use our compilation function again and run it for 15 epochs to match once again our best built model. We use a very low learning_rate because it's what's recommend for fine tuning\n",
    " the model so we don't run the risk of overfitting\n",
    " "
   ]
  },
  {
   "cell_type": "code",
   "execution_count": null,
   "id": "X7lP6mrz1RS9",
   "metadata": {
    "colab": {
     "base_uri": "https://localhost:8080/"
    },
    "id": "X7lP6mrz1RS9",
    "outputId": "1d32ea46-3c2a-4915-df0f-f2235099c540"
   },
   "outputs": [
    {
     "name": "stdout",
     "output_type": "stream",
     "text": [
      "Epoch 1/15\n",
      "472/472 [==============================] - 171s 229ms/step - loss: 1.0364 - accuracy: 0.6255 - AUROC: 0.9107 - precision: 0.7202 - recall: 0.5161 - val_loss: 1.0547 - val_accuracy: 0.6148 - val_AUROC: 0.9107 - val_precision: 0.6928 - val_recall: 0.5232\n",
      "Epoch 2/15\n",
      "472/472 [==============================] - 107s 224ms/step - loss: 1.0069 - accuracy: 0.6309 - AUROC: 0.9154 - precision: 0.7262 - recall: 0.5186 - val_loss: 1.0760 - val_accuracy: 0.6025 - val_AUROC: 0.9073 - val_precision: 0.6850 - val_recall: 0.5132\n",
      "Epoch 3/15\n",
      "472/472 [==============================] - 108s 226ms/step - loss: 0.9861 - accuracy: 0.6418 - AUROC: 0.9187 - precision: 0.7342 - recall: 0.5278 - val_loss: 1.0438 - val_accuracy: 0.6060 - val_AUROC: 0.9125 - val_precision: 0.6895 - val_recall: 0.5255\n",
      "Epoch 4/15\n",
      "472/472 [==============================] - 107s 224ms/step - loss: 0.9745 - accuracy: 0.6457 - AUROC: 0.9207 - precision: 0.7363 - recall: 0.5378 - val_loss: 1.0508 - val_accuracy: 0.6183 - val_AUROC: 0.9113 - val_precision: 0.6922 - val_recall: 0.5244\n",
      "Epoch 5/15\n",
      "472/472 [==============================] - 108s 226ms/step - loss: 0.9606 - accuracy: 0.6476 - AUROC: 0.9228 - precision: 0.7460 - recall: 0.5441 - val_loss: 1.0269 - val_accuracy: 0.6213 - val_AUROC: 0.9151 - val_precision: 0.7021 - val_recall: 0.5355\n",
      "Epoch 6/15\n",
      "472/472 [==============================] - 107s 224ms/step - loss: 0.9446 - accuracy: 0.6542 - AUROC: 0.9253 - precision: 0.7475 - recall: 0.5509 - val_loss: 1.0350 - val_accuracy: 0.6136 - val_AUROC: 0.9140 - val_precision: 0.7036 - val_recall: 0.5297\n",
      "Epoch 7/15\n",
      "472/472 [==============================] - 107s 225ms/step - loss: 0.9349 - accuracy: 0.6594 - AUROC: 0.9266 - precision: 0.7491 - recall: 0.5567 - val_loss: 1.0295 - val_accuracy: 0.6166 - val_AUROC: 0.9154 - val_precision: 0.6929 - val_recall: 0.5379\n",
      "Epoch 8/15\n",
      "472/472 [==============================] - 107s 224ms/step - loss: 0.9263 - accuracy: 0.6599 - AUROC: 0.9281 - precision: 0.7496 - recall: 0.5558 - val_loss: 1.0201 - val_accuracy: 0.6260 - val_AUROC: 0.9165 - val_precision: 0.6965 - val_recall: 0.5390\n",
      "Epoch 9/15\n",
      "472/472 [==============================] - 107s 225ms/step - loss: 0.9094 - accuracy: 0.6694 - AUROC: 0.9305 - precision: 0.7594 - recall: 0.5668 - val_loss: 1.0226 - val_accuracy: 0.6248 - val_AUROC: 0.9166 - val_precision: 0.6996 - val_recall: 0.5402\n",
      "Epoch 10/15\n",
      "472/472 [==============================] - 108s 228ms/step - loss: 0.9061 - accuracy: 0.6654 - AUROC: 0.9310 - precision: 0.7576 - recall: 0.5656 - val_loss: 1.0085 - val_accuracy: 0.6295 - val_AUROC: 0.9182 - val_precision: 0.7113 - val_recall: 0.5426\n",
      "Epoch 11/15\n",
      "472/472 [==============================] - 107s 224ms/step - loss: 0.8920 - accuracy: 0.6713 - AUROC: 0.9331 - precision: 0.7634 - recall: 0.5698 - val_loss: 0.9965 - val_accuracy: 0.6318 - val_AUROC: 0.9197 - val_precision: 0.7069 - val_recall: 0.5437\n",
      "Epoch 12/15\n",
      "472/472 [==============================] - 108s 227ms/step - loss: 0.8869 - accuracy: 0.6741 - AUROC: 0.9339 - precision: 0.7639 - recall: 0.5737 - val_loss: 0.9979 - val_accuracy: 0.6265 - val_AUROC: 0.9197 - val_precision: 0.7076 - val_recall: 0.5443\n",
      "Epoch 13/15\n",
      "472/472 [==============================] - 107s 224ms/step - loss: 0.8812 - accuracy: 0.6769 - AUROC: 0.9349 - precision: 0.7639 - recall: 0.5756 - val_loss: 1.0070 - val_accuracy: 0.6348 - val_AUROC: 0.9189 - val_precision: 0.7094 - val_recall: 0.5490\n",
      "Epoch 14/15\n",
      "472/472 [==============================] - 108s 227ms/step - loss: 0.8603 - accuracy: 0.6816 - AUROC: 0.9378 - precision: 0.7722 - recall: 0.5853 - val_loss: 0.9938 - val_accuracy: 0.6260 - val_AUROC: 0.9209 - val_precision: 0.7035 - val_recall: 0.5461\n",
      "Epoch 15/15\n",
      "472/472 [==============================] - 107s 224ms/step - loss: 0.8553 - accuracy: 0.6852 - AUROC: 0.9385 - precision: 0.7735 - recall: 0.5889 - val_loss: 0.9935 - val_accuracy: 0.6353 - val_AUROC: 0.9204 - val_precision: 0.7060 - val_recall: 0.5514\n"
     ]
    }
   ],
   "source": [
    "transfer_model = compilation(modelT, epochs=15, learning_rate=0.00001)"
   ]
  },
  {
   "cell_type": "code",
   "execution_count": null,
   "id": "FmpoaQggExOH",
   "metadata": {
    "colab": {
     "base_uri": "https://localhost:8080/",
     "height": 520
    },
    "id": "FmpoaQggExOH",
    "outputId": "cd743047-192f-4f98-d447-35ddab3c8ef2"
   },
   "outputs": [
    {
     "data": {
      "text/html": [
       "\n",
       "  <div id=\"df-c539372d-3ee1-4e00-b6b1-474b50d6d2e7\">\n",
       "    <div class=\"colab-df-container\">\n",
       "      <div>\n",
       "<style scoped>\n",
       "    .dataframe tbody tr th:only-of-type {\n",
       "        vertical-align: middle;\n",
       "    }\n",
       "\n",
       "    .dataframe tbody tr th {\n",
       "        vertical-align: top;\n",
       "    }\n",
       "\n",
       "    .dataframe thead th {\n",
       "        text-align: right;\n",
       "    }\n",
       "</style>\n",
       "<table border=\"1\" class=\"dataframe\">\n",
       "  <thead>\n",
       "    <tr style=\"text-align: right;\">\n",
       "      <th></th>\n",
       "      <th>loss</th>\n",
       "      <th>accuracy</th>\n",
       "      <th>AUROC</th>\n",
       "      <th>precision</th>\n",
       "      <th>recall</th>\n",
       "      <th>val_loss</th>\n",
       "      <th>val_accuracy</th>\n",
       "      <th>val_AUROC</th>\n",
       "      <th>val_precision</th>\n",
       "      <th>val_recall</th>\n",
       "      <th>Epoch</th>\n",
       "      <th>f1</th>\n",
       "      <th>val_f1</th>\n",
       "    </tr>\n",
       "  </thead>\n",
       "  <tbody>\n",
       "    <tr>\n",
       "      <th>0</th>\n",
       "      <td>1.036372</td>\n",
       "      <td>0.625542</td>\n",
       "      <td>0.910708</td>\n",
       "      <td>0.720157</td>\n",
       "      <td>0.516051</td>\n",
       "      <td>1.054717</td>\n",
       "      <td>0.614797</td>\n",
       "      <td>0.910746</td>\n",
       "      <td>0.692846</td>\n",
       "      <td>0.523194</td>\n",
       "      <td>1</td>\n",
       "      <td>0.601254</td>\n",
       "      <td>0.596186</td>\n",
       "    </tr>\n",
       "    <tr>\n",
       "      <th>1</th>\n",
       "      <td>1.006851</td>\n",
       "      <td>0.630909</td>\n",
       "      <td>0.915428</td>\n",
       "      <td>0.726223</td>\n",
       "      <td>0.518569</td>\n",
       "      <td>1.075971</td>\n",
       "      <td>0.602466</td>\n",
       "      <td>0.907339</td>\n",
       "      <td>0.684953</td>\n",
       "      <td>0.513212</td>\n",
       "      <td>2</td>\n",
       "      <td>0.605075</td>\n",
       "      <td>0.586774</td>\n",
       "    </tr>\n",
       "    <tr>\n",
       "      <th>2</th>\n",
       "      <td>0.986140</td>\n",
       "      <td>0.641776</td>\n",
       "      <td>0.918662</td>\n",
       "      <td>0.734215</td>\n",
       "      <td>0.527779</td>\n",
       "      <td>1.043807</td>\n",
       "      <td>0.605989</td>\n",
       "      <td>0.912540</td>\n",
       "      <td>0.689522</td>\n",
       "      <td>0.525543</td>\n",
       "      <td>3</td>\n",
       "      <td>0.614113</td>\n",
       "      <td>0.596468</td>\n",
       "    </tr>\n",
       "    <tr>\n",
       "      <th>3</th>\n",
       "      <td>0.974457</td>\n",
       "      <td>0.645685</td>\n",
       "      <td>0.920653</td>\n",
       "      <td>0.736324</td>\n",
       "      <td>0.537784</td>\n",
       "      <td>1.050772</td>\n",
       "      <td>0.618321</td>\n",
       "      <td>0.911278</td>\n",
       "      <td>0.692248</td>\n",
       "      <td>0.524369</td>\n",
       "      <td>4</td>\n",
       "      <td>0.621585</td>\n",
       "      <td>0.596726</td>\n",
       "    </tr>\n",
       "    <tr>\n",
       "      <th>4</th>\n",
       "      <td>0.960647</td>\n",
       "      <td>0.647606</td>\n",
       "      <td>0.922809</td>\n",
       "      <td>0.746025</td>\n",
       "      <td>0.544078</td>\n",
       "      <td>1.026912</td>\n",
       "      <td>0.621257</td>\n",
       "      <td>0.915146</td>\n",
       "      <td>0.702079</td>\n",
       "      <td>0.535526</td>\n",
       "      <td>5</td>\n",
       "      <td>0.629246</td>\n",
       "      <td>0.607595</td>\n",
       "    </tr>\n",
       "    <tr>\n",
       "      <th>5</th>\n",
       "      <td>0.944620</td>\n",
       "      <td>0.654166</td>\n",
       "      <td>0.925318</td>\n",
       "      <td>0.747483</td>\n",
       "      <td>0.550936</td>\n",
       "      <td>1.034954</td>\n",
       "      <td>0.613623</td>\n",
       "      <td>0.913988</td>\n",
       "      <td>0.703588</td>\n",
       "      <td>0.529654</td>\n",
       "      <td>6</td>\n",
       "      <td>0.634333</td>\n",
       "      <td>0.604355</td>\n",
       "    </tr>\n",
       "    <tr>\n",
       "      <th>6</th>\n",
       "      <td>0.934879</td>\n",
       "      <td>0.659400</td>\n",
       "      <td>0.926643</td>\n",
       "      <td>0.749131</td>\n",
       "      <td>0.556667</td>\n",
       "      <td>1.029485</td>\n",
       "      <td>0.616559</td>\n",
       "      <td>0.915416</td>\n",
       "      <td>0.692890</td>\n",
       "      <td>0.537874</td>\n",
       "      <td>7</td>\n",
       "      <td>0.638715</td>\n",
       "      <td>0.605620</td>\n",
       "    </tr>\n",
       "    <tr>\n",
       "      <th>7</th>\n",
       "      <td>0.926293</td>\n",
       "      <td>0.659930</td>\n",
       "      <td>0.928065</td>\n",
       "      <td>0.749643</td>\n",
       "      <td>0.555806</td>\n",
       "      <td>1.020135</td>\n",
       "      <td>0.625954</td>\n",
       "      <td>0.916456</td>\n",
       "      <td>0.696510</td>\n",
       "      <td>0.539049</td>\n",
       "      <td>8</td>\n",
       "      <td>0.638333</td>\n",
       "      <td>0.607746</td>\n",
       "    </tr>\n",
       "    <tr>\n",
       "      <th>8</th>\n",
       "      <td>0.909432</td>\n",
       "      <td>0.669372</td>\n",
       "      <td>0.930510</td>\n",
       "      <td>0.759387</td>\n",
       "      <td>0.566805</td>\n",
       "      <td>1.022614</td>\n",
       "      <td>0.624780</td>\n",
       "      <td>0.916574</td>\n",
       "      <td>0.699620</td>\n",
       "      <td>0.540223</td>\n",
       "      <td>9</td>\n",
       "      <td>0.649113</td>\n",
       "      <td>0.609675</td>\n",
       "    </tr>\n",
       "    <tr>\n",
       "      <th>9</th>\n",
       "      <td>0.906107</td>\n",
       "      <td>0.665397</td>\n",
       "      <td>0.930976</td>\n",
       "      <td>0.757632</td>\n",
       "      <td>0.565645</td>\n",
       "      <td>1.008513</td>\n",
       "      <td>0.629477</td>\n",
       "      <td>0.918170</td>\n",
       "      <td>0.711316</td>\n",
       "      <td>0.542572</td>\n",
       "      <td>10</td>\n",
       "      <td>0.647712</td>\n",
       "      <td>0.615590</td>\n",
       "    </tr>\n",
       "    <tr>\n",
       "      <th>10</th>\n",
       "      <td>0.892044</td>\n",
       "      <td>0.671294</td>\n",
       "      <td>0.933136</td>\n",
       "      <td>0.763382</td>\n",
       "      <td>0.569786</td>\n",
       "      <td>0.996508</td>\n",
       "      <td>0.631826</td>\n",
       "      <td>0.919736</td>\n",
       "      <td>0.706870</td>\n",
       "      <td>0.543746</td>\n",
       "      <td>11</td>\n",
       "      <td>0.652528</td>\n",
       "      <td>0.614670</td>\n",
       "    </tr>\n",
       "    <tr>\n",
       "      <th>11</th>\n",
       "      <td>0.886927</td>\n",
       "      <td>0.674143</td>\n",
       "      <td>0.933949</td>\n",
       "      <td>0.763883</td>\n",
       "      <td>0.573729</td>\n",
       "      <td>0.997856</td>\n",
       "      <td>0.626541</td>\n",
       "      <td>0.919674</td>\n",
       "      <td>0.707634</td>\n",
       "      <td>0.544334</td>\n",
       "      <td>12</td>\n",
       "      <td>0.655290</td>\n",
       "      <td>0.615334</td>\n",
       "    </tr>\n",
       "    <tr>\n",
       "      <th>12</th>\n",
       "      <td>0.881151</td>\n",
       "      <td>0.676859</td>\n",
       "      <td>0.934864</td>\n",
       "      <td>0.763860</td>\n",
       "      <td>0.575584</td>\n",
       "      <td>1.006972</td>\n",
       "      <td>0.634762</td>\n",
       "      <td>0.918925</td>\n",
       "      <td>0.709408</td>\n",
       "      <td>0.549031</td>\n",
       "      <td>13</td>\n",
       "      <td>0.656490</td>\n",
       "      <td>0.619000</td>\n",
       "    </tr>\n",
       "    <tr>\n",
       "      <th>13</th>\n",
       "      <td>0.860348</td>\n",
       "      <td>0.681597</td>\n",
       "      <td>0.937787</td>\n",
       "      <td>0.772217</td>\n",
       "      <td>0.585258</td>\n",
       "      <td>0.993790</td>\n",
       "      <td>0.625954</td>\n",
       "      <td>0.920884</td>\n",
       "      <td>0.703480</td>\n",
       "      <td>0.546095</td>\n",
       "      <td>14</td>\n",
       "      <td>0.665863</td>\n",
       "      <td>0.614876</td>\n",
       "    </tr>\n",
       "    <tr>\n",
       "      <th>14</th>\n",
       "      <td>0.855270</td>\n",
       "      <td>0.685208</td>\n",
       "      <td>0.938471</td>\n",
       "      <td>0.773465</td>\n",
       "      <td>0.588869</td>\n",
       "      <td>0.993508</td>\n",
       "      <td>0.635349</td>\n",
       "      <td>0.920447</td>\n",
       "      <td>0.706015</td>\n",
       "      <td>0.551380</td>\n",
       "      <td>15</td>\n",
       "      <td>0.668660</td>\n",
       "      <td>0.619189</td>\n",
       "    </tr>\n",
       "  </tbody>\n",
       "</table>\n",
       "</div>\n",
       "      <button class=\"colab-df-convert\" onclick=\"convertToInteractive('df-c539372d-3ee1-4e00-b6b1-474b50d6d2e7')\"\n",
       "              title=\"Convert this dataframe to an interactive table.\"\n",
       "              style=\"display:none;\">\n",
       "        \n",
       "  <svg xmlns=\"http://www.w3.org/2000/svg\" height=\"24px\"viewBox=\"0 0 24 24\"\n",
       "       width=\"24px\">\n",
       "    <path d=\"M0 0h24v24H0V0z\" fill=\"none\"/>\n",
       "    <path d=\"M18.56 5.44l.94 2.06.94-2.06 2.06-.94-2.06-.94-.94-2.06-.94 2.06-2.06.94zm-11 1L8.5 8.5l.94-2.06 2.06-.94-2.06-.94L8.5 2.5l-.94 2.06-2.06.94zm10 10l.94 2.06.94-2.06 2.06-.94-2.06-.94-.94-2.06-.94 2.06-2.06.94z\"/><path d=\"M17.41 7.96l-1.37-1.37c-.4-.4-.92-.59-1.43-.59-.52 0-1.04.2-1.43.59L10.3 9.45l-7.72 7.72c-.78.78-.78 2.05 0 2.83L4 21.41c.39.39.9.59 1.41.59.51 0 1.02-.2 1.41-.59l7.78-7.78 2.81-2.81c.8-.78.8-2.07 0-2.86zM5.41 20L4 18.59l7.72-7.72 1.47 1.35L5.41 20z\"/>\n",
       "  </svg>\n",
       "      </button>\n",
       "      \n",
       "  <style>\n",
       "    .colab-df-container {\n",
       "      display:flex;\n",
       "      flex-wrap:wrap;\n",
       "      gap: 12px;\n",
       "    }\n",
       "\n",
       "    .colab-df-convert {\n",
       "      background-color: #E8F0FE;\n",
       "      border: none;\n",
       "      border-radius: 50%;\n",
       "      cursor: pointer;\n",
       "      display: none;\n",
       "      fill: #1967D2;\n",
       "      height: 32px;\n",
       "      padding: 0 0 0 0;\n",
       "      width: 32px;\n",
       "    }\n",
       "\n",
       "    .colab-df-convert:hover {\n",
       "      background-color: #E2EBFA;\n",
       "      box-shadow: 0px 1px 2px rgba(60, 64, 67, 0.3), 0px 1px 3px 1px rgba(60, 64, 67, 0.15);\n",
       "      fill: #174EA6;\n",
       "    }\n",
       "\n",
       "    [theme=dark] .colab-df-convert {\n",
       "      background-color: #3B4455;\n",
       "      fill: #D2E3FC;\n",
       "    }\n",
       "\n",
       "    [theme=dark] .colab-df-convert:hover {\n",
       "      background-color: #434B5C;\n",
       "      box-shadow: 0px 1px 3px 1px rgba(0, 0, 0, 0.15);\n",
       "      filter: drop-shadow(0px 1px 2px rgba(0, 0, 0, 0.3));\n",
       "      fill: #FFFFFF;\n",
       "    }\n",
       "  </style>\n",
       "\n",
       "      <script>\n",
       "        const buttonEl =\n",
       "          document.querySelector('#df-c539372d-3ee1-4e00-b6b1-474b50d6d2e7 button.colab-df-convert');\n",
       "        buttonEl.style.display =\n",
       "          google.colab.kernel.accessAllowed ? 'block' : 'none';\n",
       "\n",
       "        async function convertToInteractive(key) {\n",
       "          const element = document.querySelector('#df-c539372d-3ee1-4e00-b6b1-474b50d6d2e7');\n",
       "          const dataTable =\n",
       "            await google.colab.kernel.invokeFunction('convertToInteractive',\n",
       "                                                     [key], {});\n",
       "          if (!dataTable) return;\n",
       "\n",
       "          const docLinkHtml = 'Like what you see? Visit the ' +\n",
       "            '<a target=\"_blank\" href=https://colab.research.google.com/notebooks/data_table.ipynb>data table notebook</a>'\n",
       "            + ' to learn more about interactive tables.';\n",
       "          element.innerHTML = '';\n",
       "          dataTable['output_type'] = 'display_data';\n",
       "          await google.colab.output.renderOutput(dataTable, element);\n",
       "          const docLink = document.createElement('div');\n",
       "          docLink.innerHTML = docLinkHtml;\n",
       "          element.appendChild(docLink);\n",
       "        }\n",
       "      </script>\n",
       "    </div>\n",
       "  </div>\n",
       "  "
      ],
      "text/plain": [
       "        loss  accuracy     AUROC  precision    recall  val_loss  val_accuracy  \\\n",
       "0   1.036372  0.625542  0.910708   0.720157  0.516051  1.054717      0.614797   \n",
       "1   1.006851  0.630909  0.915428   0.726223  0.518569  1.075971      0.602466   \n",
       "2   0.986140  0.641776  0.918662   0.734215  0.527779  1.043807      0.605989   \n",
       "3   0.974457  0.645685  0.920653   0.736324  0.537784  1.050772      0.618321   \n",
       "4   0.960647  0.647606  0.922809   0.746025  0.544078  1.026912      0.621257   \n",
       "5   0.944620  0.654166  0.925318   0.747483  0.550936  1.034954      0.613623   \n",
       "6   0.934879  0.659400  0.926643   0.749131  0.556667  1.029485      0.616559   \n",
       "7   0.926293  0.659930  0.928065   0.749643  0.555806  1.020135      0.625954   \n",
       "8   0.909432  0.669372  0.930510   0.759387  0.566805  1.022614      0.624780   \n",
       "9   0.906107  0.665397  0.930976   0.757632  0.565645  1.008513      0.629477   \n",
       "10  0.892044  0.671294  0.933136   0.763382  0.569786  0.996508      0.631826   \n",
       "11  0.886927  0.674143  0.933949   0.763883  0.573729  0.997856      0.626541   \n",
       "12  0.881151  0.676859  0.934864   0.763860  0.575584  1.006972      0.634762   \n",
       "13  0.860348  0.681597  0.937787   0.772217  0.585258  0.993790      0.625954   \n",
       "14  0.855270  0.685208  0.938471   0.773465  0.588869  0.993508      0.635349   \n",
       "\n",
       "    val_AUROC  val_precision  val_recall  Epoch        f1    val_f1  \n",
       "0    0.910746       0.692846    0.523194      1  0.601254  0.596186  \n",
       "1    0.907339       0.684953    0.513212      2  0.605075  0.586774  \n",
       "2    0.912540       0.689522    0.525543      3  0.614113  0.596468  \n",
       "3    0.911278       0.692248    0.524369      4  0.621585  0.596726  \n",
       "4    0.915146       0.702079    0.535526      5  0.629246  0.607595  \n",
       "5    0.913988       0.703588    0.529654      6  0.634333  0.604355  \n",
       "6    0.915416       0.692890    0.537874      7  0.638715  0.605620  \n",
       "7    0.916456       0.696510    0.539049      8  0.638333  0.607746  \n",
       "8    0.916574       0.699620    0.540223      9  0.649113  0.609675  \n",
       "9    0.918170       0.711316    0.542572     10  0.647712  0.615590  \n",
       "10   0.919736       0.706870    0.543746     11  0.652528  0.614670  \n",
       "11   0.919674       0.707634    0.544334     12  0.655290  0.615334  \n",
       "12   0.918925       0.709408    0.549031     13  0.656490  0.619000  \n",
       "13   0.920884       0.703480    0.546095     14  0.665863  0.614876  \n",
       "14   0.920447       0.706015    0.551380     15  0.668660  0.619189  "
      ]
     },
     "execution_count": 93,
     "metadata": {},
     "output_type": "execute_result"
    }
   ],
   "source": [
    "transfer_model"
   ]
  },
  {
   "cell_type": "markdown",
   "id": "wNy0SyYsob-a",
   "metadata": {
    "id": "wNy0SyYsob-a"
   },
   "source": [
    "## 3.4 Model Comparision"
   ]
  },
  {
   "cell_type": "markdown",
   "id": "qLkfSXvwsXFh",
   "metadata": {
    "id": "qLkfSXvwsXFh"
   },
   "source": [
    "Now we are going to compare our transfer learning model with our best model"
   ]
  },
  {
   "cell_type": "code",
   "execution_count": null,
   "id": "8aDOUK-ebv9i",
   "metadata": {
    "colab": {
     "base_uri": "https://localhost:8080/"
    },
    "id": "8aDOUK-ebv9i",
    "outputId": "7f6ea9e9-6952-41de-f186-51db6fe9870d"
   },
   "outputs": [
    {
     "name": "stdout",
     "output_type": "stream",
     "text": [
      "Test Accuracy: 0.6407185792922974\n",
      "Test f1_score: 0.6283582205699967\n"
     ]
    }
   ],
   "source": [
    "test_scores_final = modelT.evaluate(ds_test,verbose = 0)\n",
    "\n",
    "print(f'Test Accuracy: {test_scores_final[1]}')\n",
    "\n",
    "print(f'Test f1_score: {2*test_scores_final[-2]*test_scores_final[-1]/(test_scores_final[-2]+test_scores_final[-1])}')"
   ]
  },
  {
   "cell_type": "markdown",
   "id": "kMyBBCjfsx76",
   "metadata": {
    "id": "kMyBBCjfsx76"
   },
   "source": [
    "Above we have the test scores from our Transfer Learning model, below we have the scores from our best model.\n",
    "\n",
    "- As we can see the Transfer Learning Model is not near as good as our best model, falling way below the scores we expected"
   ]
  },
  {
   "cell_type": "markdown",
   "id": "7fQvsS-ehYC9",
   "metadata": {
    "id": "7fQvsS-ehYC9"
   },
   "source": [
    "![image.png](data:image/png;base64,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)"
   ]
  },
  {
   "cell_type": "markdown",
   "id": "F9l2ifzety_p",
   "metadata": {
    "id": "F9l2ifzety_p"
   },
   "source": [
    "Below we can see: \n",
    "\n",
    "- First the plot from the Transfer Learning model\n",
    "- Secondly the plot from our best model"
   ]
  },
  {
   "cell_type": "markdown",
   "id": "7a6frU7ff1pB",
   "metadata": {
    "id": "7a6frU7ff1pB"
   },
   "source": [
    "![image.png](data:image/png;base64,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)![image.png](data:image/png;base64,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)"
   ]
  },
  {
   "cell_type": "markdown",
   "id": "nZkXVBq51f6f",
   "metadata": {
    "id": "nZkXVBq51f6f"
   },
   "source": [
    "Our Transfer Learning model did not reach the performance of our best model built, we can also observe on the plot from the former that the loss values were still decreasing so the Transfer Model could get a bit higher on performance with more epochs, but we think it wouldn't reach the performance of our homemade model."
   ]
  }
 ],
 "metadata": {
  "accelerator": "GPU",
  "colab": {
   "provenance": []
  },
  "gpuClass": "standard",
  "kernelspec": {
   "display_name": "Python 3 (ipykernel)",
   "language": "python",
   "name": "python3"
  },
  "language_info": {
   "codemirror_mode": {
    "name": "ipython",
    "version": 3
   },
   "file_extension": ".py",
   "mimetype": "text/x-python",
   "name": "python",
   "nbconvert_exporter": "python",
   "pygments_lexer": "ipython3",
   "version": "3.9.16"
  }
 },
 "nbformat": 4,
 "nbformat_minor": 5
}
